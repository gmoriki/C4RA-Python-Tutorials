{
 "cells": [
  {
   "attachments": {},
   "cell_type": "markdown",
   "metadata": {},
   "source": [
    "# 第1回C4RA勉強会\n",
    "## Pythonの特徴とデータ型\n",
    "---"
   ]
  },
  {
   "attachments": {},
   "cell_type": "markdown",
   "metadata": {},
   "source": [
    "## ★ 勉強会の基本方針"
   ]
  },
  {
   "attachments": {},
   "cell_type": "markdown",
   "metadata": {},
   "source": [
    "* 5月12日(金)から6月30日(金)までの計8回を予定しています。\n",
    "* 目標は**pandas.DataFrame形式の基本的な操作をマスターすること**です。"
   ]
  },
  {
   "attachments": {},
   "cell_type": "markdown",
   "metadata": {},
   "source": [
    "* 環境はGoogle Colaboratory(通称Colabo)を使用します。Googleアカウントをご用意ください。\n",
    "  * 各々のローカル環境でも実行可能です。\n",
    "* 一部、東京大学「Pythonプログラミング入門」のデータを共有しながら勉強会を進めます。\n",
    "  * 勉強会では**東大教材**と呼びます\n",
    "  * URL：https://utokyo-ipp.github.io/index.html"
   ]
  },
  {
   "attachments": {},
   "cell_type": "markdown",
   "metadata": {},
   "source": [
    "* Colabo（Jupyter Notebook）の詳しい使い方について、勉強会の中で深入りはしません\n",
    "  * Jupyter Notebookの環境によって微妙に異なります\n",
    "  * Colaboのショートカット：https://blog.kikagaku.co.jp/google-colaboratory-shortcut"
   ]
  },
  {
   "attachments": {},
   "cell_type": "markdown",
   "metadata": {},
   "source": [
    "* Pythonに関する不明点があれば森木(Pumble,Mail,Twitter等)までご連絡ください\n",
    "* 勉強会の内容でなくてもOKです（Colabの使い方や環境構築なども）\n",
    "---"
   ]
  },
  {
   "attachments": {},
   "cell_type": "markdown",
   "metadata": {},
   "source": [
    "## ■ Pythonの特徴"
   ]
  },
  {
   "attachments": {},
   "cell_type": "markdown",
   "metadata": {},
   "source": [
    "### シンプルで読みやすい構文\n",
    "Pythonは、コードが読みやすく、書きやすいという特徴があります。インデントによってブロックを表現するため、コードが整理されやすくなります。"
   ]
  },
  {
   "cell_type": "code",
   "execution_count": null,
   "metadata": {},
   "outputs": [],
   "source": [
    "# 例：Hello, World!を3回表示するプログラム\n",
    "for i in range(3):\n",
    "    print(\"Hello, World!\")"
   ]
  },
  {
   "attachments": {},
   "cell_type": "markdown",
   "metadata": {},
   "source": [
    "### 多機能な標準ライブラリ\n",
    "Pythonには、標準ライブラリが充実しており、様々な機能を利用することができます。これにより、短いコードで多くのことが実現できます。"
   ]
  },
  {
   "cell_type": "code",
   "execution_count": null,
   "metadata": {},
   "outputs": [],
   "source": [
    "# 例：日付を扱うプログラム\n",
    "from datetime import datetime\n",
    "\n",
    "now = datetime.now()\n",
    "formatted_date = now.strftime(\"%Y年%m月%d日\")\n",
    "print(\"今日の日付は\", formatted_date)"
   ]
  },
  {
   "attachments": {},
   "cell_type": "markdown",
   "metadata": {},
   "source": [
    "### 豊富なサードパーティライブラリ\n",
    "Pythonは、豊富なサードパーティライブラリが存在し、データ解析、機械学習、Web開発など幅広い分野で活用されています。これらのライブラリを利用することで、短時間で高度なプログラムを実装することが可能です。"
   ]
  },
  {
   "cell_type": "code",
   "execution_count": null,
   "metadata": {},
   "outputs": [],
   "source": [
    "# 例：数値計算ライブラリNumPyを使ったプログラム\n",
    "import numpy as np\n",
    "\n",
    "array1 = np.array([1, 2, 3])\n",
    "array2 = np.array([4, 5, 6])\n",
    "\n",
    "sum_array = array1 + array2\n",
    "print(\"配列の和:\", sum_array)"
   ]
  },
  {
   "attachments": {},
   "cell_type": "markdown",
   "metadata": {},
   "source": [
    "* 導入が容易でとっつきやすい\n",
    "* 利用者が多いので困ったときに助かる\n",
    "* 欠点は...?"
   ]
  },
  {
   "attachments": {},
   "cell_type": "markdown",
   "metadata": {},
   "source": [
    "## ■ データ型と変数"
   ]
  },
  {
   "attachments": {},
   "cell_type": "markdown",
   "metadata": {},
   "source": [
    "Pythonで扱える基本的なデータ型に整数型（int）、浮動小数点型（float）、文字列型（str）などがあります。"
   ]
  },
  {
   "cell_type": "code",
   "execution_count": null,
   "metadata": {},
   "outputs": [],
   "source": [
    "print(20) # int\n",
    "print(20.0) # float\n",
    "print('20') # str"
   ]
  },
  {
   "attachments": {},
   "cell_type": "markdown",
   "metadata": {},
   "source": [
    "### **東大教材(データ型)**\n",
    "* 1-1. 数値演算\n",
    "  * https://colab.research.google.com/github/utokyo-ipp/utokyo-ipp.github.io/blob/master/colab/1/1-1.ipynb\n",
    "* 2-1. 文字列 (string)\n",
    "  * https://colab.research.google.com/github/utokyo-ipp/utokyo-ipp.github.io/blob/master/colab/2/2-1.ipynb"
   ]
  },
  {
   "attachments": {},
   "cell_type": "markdown",
   "metadata": {},
   "source": [
    "各種データを扱うために変数、関数、論理・比較演算、条件分岐があります。\n",
    "\n",
    "(今回は概要のみ説明します。詳しくは5/26勉強会で説明します。)"
   ]
  },
  {
   "cell_type": "code",
   "execution_count": null,
   "metadata": {},
   "outputs": [],
   "source": [
    "x = 20  # 整数値20を変数xに代入\n",
    "\n",
    "# 関数plus100を定義\n",
    "def plus100(int_value):\n",
    "    # int_valueが整数型であるかチェック\n",
    "    if type(int_value) == int:\n",
    "        # int_valueが整数型の場合、int_valueに100を加算して結果を返す\n",
    "        return int_value + 100\n",
    "    else:\n",
    "        # int_valueが整数型でない場合、エラーメッセージを返す\n",
    "        return 'intをください'\n",
    "\n",
    "# 関数plus100にxを渡し、結果を出力（x + 100 = 120）\n",
    "print(plus100(x))\n",
    "# 関数plus100に文字列'dummy'を渡し、エラーメッセージを出力\n",
    "print(plus100('dummy'))"
   ]
  },
  {
   "attachments": {},
   "cell_type": "markdown",
   "metadata": {},
   "source": [
    "### **東大教材(データの扱い)**\n",
    "* 1-2. 変数と関数の基礎\n",
    "  * https://utokyo-ipp.github.io/1/1-2.html\n",
    "* 1-3. 論理・比較演算と条件分岐の基礎\n",
    "  * https://utokyo-ipp.github.io/1/1-3.html"
   ]
  }
 ],
 "metadata": {
  "kernelspec": {
   "display_name": "Python 3",
   "language": "python",
   "name": "python3"
  },
  "language_info": {
   "codemirror_mode": {
    "name": "ipython",
    "version": 3
   },
   "file_extension": ".py",
   "mimetype": "text/x-python",
   "name": "python",
   "nbconvert_exporter": "python",
   "pygments_lexer": "ipython3",
   "version": "3.10.1"
  },
  "orig_nbformat": 4
 },
 "nbformat": 4,
 "nbformat_minor": 2
}
