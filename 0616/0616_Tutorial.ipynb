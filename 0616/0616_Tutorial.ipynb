{
 "cells": [
  {
   "attachments": {},
   "cell_type": "markdown",
   "metadata": {},
   "source": [
    "<a href=\"https://colab.research.google.com/github/gmoriki/C4RA-Python-Tutorials/blob/main/0616/0616_Tutorial.ipynb\" target=\"_parent\"><img src=\"https://colab.research.google.com/assets/colab-badge.svg\" alt=\"Open In Colab\"/></a>"
   ]
  },
  {
   "attachments": {},
   "cell_type": "markdown",
   "metadata": {},
   "source": [
    "# 第6回C4RA勉強会\n",
    "## DataFrameのデータ統計と集計\n",
    "---"
   ]
  },
  {
   "attachments": {},
   "cell_type": "markdown",
   "metadata": {},
   "source": [
    "## ★ 勉強会の基本方針"
   ]
  },
  {
   "attachments": {},
   "cell_type": "markdown",
   "metadata": {},
   "source": [
    "* 5月12日(金)から6月30日(金)までの計8回を予定しています。\n",
    "* 目標は**pandas.DataFrame形式の基本的な操作をマスターすること**です。"
   ]
  },
  {
   "attachments": {},
   "cell_type": "markdown",
   "metadata": {},
   "source": [
    "* 環境はGoogle Colaboratory(通称Colab)を使用します。Googleアカウントをご用意ください。\n",
    "  * 各々のローカル環境でも実行可能です。\n",
    "* 一部、東京大学「Pythonプログラミング入門」の教材を共有しながら勉強会を進めます。\n",
    "  * 勉強会では**東大教材**と呼びます\n",
    "  * URL：https://utokyo-ipp.github.io/index.html"
   ]
  },
  {
   "attachments": {},
   "cell_type": "markdown",
   "metadata": {},
   "source": [
    "* Colab（Jupyter Notebook）の詳しい使い方について、勉強会の中で深入りはしません\n",
    "  * Colab立ち上げのURL：https://colab.research.google.com/\n",
    "  * 便利なショートカット：https://blog.kikagaku.co.jp/google-colaboratory-shortcut"
   ]
  },
  {
   "attachments": {},
   "cell_type": "markdown",
   "metadata": {},
   "source": [
    "* Pythonに関する不明点があれば森木(Pumble,Mail,Twitter等)までご連絡ください\n",
    "* 勉強会の内容でなくてもOKです（Colabの使い方や環境構築なども）\n",
    "---"
   ]
  },
  {
   "attachments": {},
   "cell_type": "markdown",
   "metadata": {},
   "source": [
    "## ■ はじめに(データの型)"
   ]
  },
  {
   "cell_type": "code",
   "execution_count": null,
   "metadata": {},
   "outputs": [],
   "source": [
    "import pandas as pd\n",
    "import numpy as np\n",
    "\n",
    "# データフレーム作成\n",
    "data = {'Name': ['Alice', 'Bob', 'Charlie'],\n",
    "        'Age': [25, 30, 35],\n",
    "        'City': ['New York', 'San Francisco', 'Los Angeles']}\n",
    "df = pd.DataFrame(data)"
   ]
  },
  {
   "cell_type": "code",
   "execution_count": null,
   "metadata": {},
   "outputs": [],
   "source": [
    "df.dtypes"
   ]
  },
  {
   "cell_type": "code",
   "execution_count": null,
   "metadata": {},
   "outputs": [],
   "source": [
    "df['new_col'] = [1,2,'aiueo']"
   ]
  },
  {
   "cell_type": "code",
   "execution_count": null,
   "metadata": {},
   "outputs": [],
   "source": [
    "df"
   ]
  },
  {
   "cell_type": "code",
   "execution_count": null,
   "metadata": {},
   "outputs": [],
   "source": [
    "df.dtypes"
   ]
  },
  {
   "attachments": {},
   "cell_type": "markdown",
   "metadata": {},
   "source": [
    "以下の科研費データを使用します。"
   ]
  },
  {
   "cell_type": "code",
   "execution_count": null,
   "metadata": {},
   "outputs": [],
   "source": [
    "## ファイルの取得\n",
    "!wget -P . https://raw.githubusercontent.com/gmoriki/C4RA-Python-Tutorials/master/0609/kaken.nii.ac.jp_2023-06-07_10-57-32.csv"
   ]
  },
  {
   "cell_type": "code",
   "execution_count": null,
   "metadata": {},
   "outputs": [],
   "source": [
    "df_kaken = pd.read_csv('./kaken.nii.ac.jp_2023-06-07_10-57-32.csv')\n",
    "df_kaken.head(5)"
   ]
  },
  {
   "attachments": {},
   "cell_type": "markdown",
   "metadata": {},
   "source": [
    "tail = しっぽ"
   ]
  },
  {
   "cell_type": "code",
   "execution_count": null,
   "metadata": {},
   "outputs": [],
   "source": [
    "df_kaken.tail(3)"
   ]
  },
  {
   "attachments": {},
   "cell_type": "markdown",
   "metadata": {},
   "source": [
    "データを扱うために前処理を行います。"
   ]
  },
  {
   "cell_type": "code",
   "execution_count": null,
   "metadata": {},
   "outputs": [],
   "source": [
    "# 列の選択\n",
    "columns_list = ['研究課題名','審査区分','研究種目','研究機関','総配分額','総配分額 (直接経費)','総配分額 (間接経費)']\n",
    "df_kaken = df_kaken[columns_list].copy()\n",
    "\n",
    "# 百万円単位に変換する\n",
    "# いろいろな百万円の表現を使っています\n",
    "\n",
    "df_kaken['総配分額[百万]'] = df_kaken['総配分額'] / 1000000\n",
    "df_kaken['総配分額 (直接経費)[百万]'] = df_kaken['総配分額 (直接経費)'] / 1e6\n",
    "df_kaken['総配分額 (間接経費)[百万]'] = df_kaken['総配分額 (間接経費)'] / 1_000_000\n",
    "\n",
    "df_kaken"
   ]
  },
  {
   "cell_type": "code",
   "execution_count": null,
   "metadata": {},
   "outputs": [],
   "source": [
    "# 列の削除\n",
    "df_kaken = df_kaken.drop(['総配分額','総配分額 (直接経費)','総配分額 (間接経費)'], axis=1) # 列方向に削除したいのでaxis=1\n",
    "\n",
    "# 元の列名をもう一度設定\n",
    "df_kaken.columns = columns_list\n",
    "df_kaken"
   ]
  },
  {
   "attachments": {},
   "cell_type": "markdown",
   "metadata": {},
   "source": [
    "(参考)最初からこうしておけばよりスムーズです。"
   ]
  },
  {
   "cell_type": "code",
   "execution_count": null,
   "metadata": {},
   "outputs": [],
   "source": [
    "# (参考)最初からこうしておけば良かったコード\n",
    "# df_kaken['総配分額'] = df_kaken['総配分額'] / 1000000\n",
    "# df_kaken['総配分額 (直接経費)'] = df_kaken['総配分額 (直接経費)'] / 1e6\n",
    "# df_kaken['総配分額 (間接経費)'] = df_kaken['総配分額 (間接経費)'] / 1_000_000"
   ]
  },
  {
   "attachments": {},
   "cell_type": "markdown",
   "metadata": {},
   "source": [
    "研究課題名はダミーに置き換えます。"
   ]
  },
  {
   "cell_type": "code",
   "execution_count": null,
   "metadata": {},
   "outputs": [],
   "source": [
    "df_kaken['研究課題名'] = [\"課題No.\" + str(idx) for idx in df_kaken.index]\n",
    "df_kaken"
   ]
  },
  {
   "cell_type": "code",
   "execution_count": null,
   "metadata": {},
   "outputs": [],
   "source": [
    "df_kaken_origin = df_kaken.copy()"
   ]
  },
  {
   "attachments": {},
   "cell_type": "markdown",
   "metadata": {},
   "source": [
    "(参考)上記コードは\"リスト内包表記\"という便利な書き方です。\n",
    "\n",
    "内容は以下のコードと同じです。"
   ]
  },
  {
   "cell_type": "code",
   "execution_count": null,
   "metadata": {},
   "outputs": [],
   "source": [
    "# new_values = [] # 空のリストを作成\n",
    "\n",
    "# for idx in df_kaken.index:\n",
    "#     new_value = \"課題No.\" + str(idx) # 新しい値を作成\n",
    "#     new_values.append(new_value) # リストに新しい値を追加\n",
    "\n",
    "# df_kaken['研究課題名'] = new_values # 新しい値のリストをDataFrameの列に設定"
   ]
  },
  {
   "attachments": {},
   "cell_type": "markdown",
   "metadata": {},
   "source": [
    "## ■ データの統計"
   ]
  },
  {
   "attachments": {},
   "cell_type": "markdown",
   "metadata": {},
   "source": [
    "PandasのDataFrameには、データの基本的な統計を取得するための便利なメソッドが多数用意されています。\n",
    "\n",
    "* mean(): 平均値を計算します。各列の数値データをすべて足し合わせて、データの個数で割った値です。\n",
    "* median(): 中央値（全データを数値の大きさで並べたときにちょうど中央にくる値）を計算します。データの個数が偶数の場合は、中央の2つの値の平均が中央値となります。\n",
    "* max(): 最大値を計算します。各列の数値データの中で最も大きな値を返します。\n",
    "* min(): 最小値を計算します。各列の数値データの中で最も小さな値を返します。\n",
    "* std(): 標準偏差（データのばらつき具合を数値化したもの）を計算します。データの平均値からどれだけデータが散らばっているかを示します。\n",
    "\n",
    "これらのメソッドは、数値データに対してのみ機能します。文字列や日付などの非数値データが含まれる列に対しては、これらのメソッドは無視されます。"
   ]
  },
  {
   "cell_type": "code",
   "execution_count": null,
   "metadata": {},
   "outputs": [],
   "source": [
    "df_kaken['総配分額'].mean()"
   ]
  },
  {
   "cell_type": "code",
   "execution_count": null,
   "metadata": {},
   "outputs": [],
   "source": [
    "# 各統計量を計算\n",
    "age_mean = df_kaken['総配分額'].mean()\n",
    "age_median = df_kaken['総配分額'].median()\n",
    "age_max = df_kaken['総配分額'].max()\n",
    "age_min = df_kaken['総配分額'].min()\n",
    "age_std = df_kaken['総配分額'].std()\n",
    "age_count = df_kaken['総配分額'].count()\n",
    "age_q1 = df_kaken['総配分額'].quantile(0.25)\n",
    "age_q3 = df_kaken['総配分額'].quantile(0.75)\n",
    "\n",
    "# 結果を表示\n",
    "print('Count: ', age_count)\n",
    "print('Mean: ', age_mean)\n",
    "print('Standard Deviation: ', age_std)\n",
    "print('Minimum: ', age_min)\n",
    "print('25th Percentile: ', age_q1)\n",
    "print('Median: ', age_median)\n",
    "print('75th Percentile: ', age_q3)\n",
    "print('Maximum: ', age_max)"
   ]
  },
  {
   "cell_type": "code",
   "execution_count": null,
   "metadata": {},
   "outputs": [],
   "source": [
    "# 各統計量を計算\n",
    "age_mean = df_kaken['総配分額'].mean()\n",
    "age_median = df_kaken['総配分額'].median()\n",
    "age_max = df_kaken['総配分額'].max()\n",
    "age_min = df_kaken['総配分額'].min()\n",
    "age_std = df_kaken['総配分額'].std()\n",
    "age_count = df_kaken['総配分額'].count()\n",
    "age_q1 = df_kaken['総配分額'].quantile(0.25)\n",
    "age_q3 = df_kaken['総配分額'].quantile(0.75)\n",
    "\n",
    "# 結果を表示\n",
    "print(f\"Count: {age_count}\\nMean: {age_mean}\\nStandard Deviation: {age_std}\\nMinimum: {age_min}\\n25th Percentile: {age_q1}\\nMedian: {age_median}\\n75th Percentile: {age_q3}\\nMaximum: {age_max}\")"
   ]
  },
  {
   "attachments": {},
   "cell_type": "markdown",
   "metadata": {},
   "source": [
    "以上のコードは一つのメソッドで実現できます。"
   ]
  },
  {
   "cell_type": "code",
   "execution_count": null,
   "metadata": {},
   "outputs": [],
   "source": [
    "df_kaken['総配分額'].describe()"
   ]
  },
  {
   "attachments": {},
   "cell_type": "markdown",
   "metadata": {},
   "source": [
    "## ■ データの集計"
   ]
  },
  {
   "attachments": {},
   "cell_type": "markdown",
   "metadata": {},
   "source": [
    "次に、データの集計について学びましょう。\n",
    "\n",
    "PandasのDataFrameには、データの集計を行うための便利なメソッドが多数用意されています。\n",
    "\n",
    "* sum(): 各列の合計値を計算します。数値データをすべて足し合わせた値を返します。\n",
    "* count(): 各列の個数（非欠損値の数）を計算します。欠損値（NaN）を除いたデータの個数を返します。\n",
    "* groupby(): 特定の列を基準にして、データをグループ化します。グループ化した後に、各グループに対して平均（mean()）、合計（sum()）などの集計操作を行うことができます。\n",
    "\n",
    "これらのメソッドを組み合わせることで、さまざまなデータ集計を行うことが可能になります。"
   ]
  },
  {
   "cell_type": "code",
   "execution_count": null,
   "metadata": {},
   "outputs": [],
   "source": [
    "df_kaken = df_kaken_origin.copy()"
   ]
  },
  {
   "cell_type": "code",
   "execution_count": null,
   "metadata": {},
   "outputs": [],
   "source": [
    "columns_groupby_category = ['研究種目','総配分額','総配分額 (直接経費)','総配分額 (間接経費)']\n",
    "df_kaken = df_kaken[columns_groupby_category]"
   ]
  },
  {
   "cell_type": "code",
   "execution_count": null,
   "metadata": {},
   "outputs": [],
   "source": [
    "df_kaken.sum()"
   ]
  },
  {
   "cell_type": "code",
   "execution_count": null,
   "metadata": {},
   "outputs": [],
   "source": [
    "df_kaken.count()"
   ]
  },
  {
   "attachments": {},
   "cell_type": "markdown",
   "metadata": {},
   "source": [
    "groupbyが本番です。\n",
    "\n",
    "参考URL：https://note.nkmk.me/python-pandas-groupby-statistics/"
   ]
  },
  {
   "cell_type": "code",
   "execution_count": null,
   "metadata": {},
   "outputs": [],
   "source": [
    "df_kaken.groupby('研究種目')"
   ]
  },
  {
   "cell_type": "code",
   "execution_count": null,
   "metadata": {},
   "outputs": [],
   "source": [
    "grouped_category = df_kaken.groupby('研究種目')\n",
    "grouped_category.size()"
   ]
  },
  {
   "cell_type": "code",
   "execution_count": null,
   "metadata": {},
   "outputs": [],
   "source": [
    "grouped_category.sum()"
   ]
  },
  {
   "cell_type": "code",
   "execution_count": null,
   "metadata": {},
   "outputs": [],
   "source": [
    "grouped_category.min()"
   ]
  },
  {
   "cell_type": "code",
   "execution_count": null,
   "metadata": {},
   "outputs": [],
   "source": [
    "grouped_category.agg(['sum','min'])"
   ]
  },
  {
   "cell_type": "code",
   "execution_count": null,
   "metadata": {},
   "outputs": [],
   "source": [
    "grouped_category.agg(['max','min'])"
   ]
  },
  {
   "cell_type": "code",
   "execution_count": null,
   "metadata": {},
   "outputs": [],
   "source": [
    "def my_func(x):\n",
    "    return max(x) - min(x)\n",
    "\n",
    "grouped_category.agg(my_func)"
   ]
  },
  {
   "attachments": {},
   "cell_type": "markdown",
   "metadata": {},
   "source": [
    "上記と同じ処理をラムダ式で表現。"
   ]
  },
  {
   "cell_type": "code",
   "execution_count": null,
   "metadata": {},
   "outputs": [],
   "source": [
    "grouped_category.agg(lambda x: max(x) - min(x))"
   ]
  },
  {
   "cell_type": "code",
   "execution_count": null,
   "metadata": {},
   "outputs": [],
   "source": [
    "grouped_category.agg({'総配分額':['sum','mean'],'総配分額 (直接経費)':'mean','総配分額 (間接経費)':'max'})"
   ]
  },
  {
   "cell_type": "code",
   "execution_count": null,
   "metadata": {},
   "outputs": [],
   "source": [
    "new_order = ['基盤研究(C)', '基盤研究(B)', '基盤研究(A)', '基盤研究(S)']\n",
    "grouped_category.agg({'総配分額':'sum','総配分額 (直接経費)':'mean','総配分額 (間接経費)':'max'}).loc[new_order]"
   ]
  },
  {
   "cell_type": "code",
   "execution_count": null,
   "metadata": {},
   "outputs": [],
   "source": [
    "columns_groupby_category = ['研究種目','総配分額','総配分額 (直接経費)','総配分額 (間接経費)']\n",
    "df_kaken = df_kaken[columns_groupby_category]"
   ]
  },
  {
   "attachments": {},
   "cell_type": "markdown",
   "metadata": {},
   "source": [
    "複数のカラムをグループ化してみましょう。"
   ]
  },
  {
   "cell_type": "code",
   "execution_count": null,
   "metadata": {},
   "outputs": [],
   "source": [
    "df_kaken = df_kaken_origin.copy()\n",
    "columns_groupby_category_inst = ['研究種目','研究機関','総配分額','総配分額 (直接経費)','総配分額 (間接経費)']\n",
    "df_kaken = df_kaken[columns_groupby_category_inst].copy()"
   ]
  },
  {
   "cell_type": "code",
   "execution_count": null,
   "metadata": {},
   "outputs": [],
   "source": [
    "# df_kaken = df_kaken[df_kaken['研究機関'].str.contains('東京大学') | df_kaken['研究機関'].str.contains('京都大学')]\n",
    "df_kaken_2top = df_kaken[df_kaken['研究機関'].isin(['東京大学', '京都大学'])]\n",
    "df_kaken_2top"
   ]
  },
  {
   "cell_type": "code",
   "execution_count": null,
   "metadata": {},
   "outputs": [],
   "source": [
    "grouped_category_2top = df_kaken_2top.groupby(['研究種目','研究機関'])\n",
    "grouped_category_2top.size()"
   ]
  },
  {
   "cell_type": "code",
   "execution_count": null,
   "metadata": {},
   "outputs": [],
   "source": [
    "grouped_category_2top.sum()"
   ]
  },
  {
   "cell_type": "code",
   "execution_count": null,
   "metadata": {},
   "outputs": [],
   "source": [
    "grouped_category_2top.agg({'総配分額':['sum'],'総配分額 (直接経費)':'mean','総配分額 (間接経費)':'max'})"
   ]
  },
  {
   "cell_type": "code",
   "execution_count": null,
   "metadata": {},
   "outputs": [],
   "source": [
    "df_2top_table = grouped_category_2top.agg({'総配分額':['sum','mean'],'総配分額 (直接経費)':'mean','総配分額 (間接経費)':'max'})"
   ]
  },
  {
   "cell_type": "code",
   "execution_count": null,
   "metadata": {},
   "outputs": [],
   "source": [
    "df_2top_table.reset_index()"
   ]
  },
  {
   "cell_type": "code",
   "execution_count": null,
   "metadata": {},
   "outputs": [],
   "source": [
    "level0 = df_2top_table.columns.get_level_values(0)\n",
    "level1 = df_2top_table.columns.get_level_values(1)\n",
    "\n",
    "df_2top_table.columns = level0 + '_' + level1\n",
    "\n",
    "df_2top_table"
   ]
  },
  {
   "cell_type": "code",
   "execution_count": null,
   "metadata": {},
   "outputs": [],
   "source": [
    "df_2top_table.reset_index()"
   ]
  },
  {
   "attachments": {},
   "cell_type": "markdown",
   "metadata": {},
   "source": [
    "## ■ オマケ：パイプラインについて"
   ]
  },
  {
   "cell_type": "code",
   "execution_count": null,
   "metadata": {},
   "outputs": [],
   "source": [
    "df_kaken = pd.read_csv('./kaken.nii.ac.jp_2023-06-07_10-57-32.csv')"
   ]
  },
  {
   "cell_type": "code",
   "execution_count": null,
   "metadata": {},
   "outputs": [],
   "source": [
    "# copy\n",
    "df_kaken_1 = df_kaken.copy()\n",
    "# こうやって書くと大変\n",
    "\n",
    "# 欠損値を削除\n",
    "df_kaken_1 = df_kaken_1.dropna(axis=1, how='any')\n",
    "\n",
    "# 必要な列だけを選択\n",
    "df_kaken_1 = df_kaken_1[['研究課題名','研究種目','総配分額']]\n",
    "\n",
    "# 条件に合う行を選択\n",
    "mask = (df_kaken_1['総配分額'] > df_kaken_1['総配分額'].mode().values[0]) & (df_kaken_1['研究種目'].str.contains('C'))\n",
    "df_kaken_1 = df_kaken_1[mask]\n",
    "\n",
    "# '総配分額'でソート\n",
    "df_kaken_1 = df_kaken_1.sort_values(by='総配分額')\n",
    "\n",
    "# インデックスをリセット\n",
    "df_kaken_1 = df_kaken_1.reset_index(drop=True)\n",
    "df_kaken_1"
   ]
  },
  {
   "cell_type": "code",
   "execution_count": null,
   "metadata": {},
   "outputs": [],
   "source": [
    "# copy\n",
    "df_kaken_2 = df_kaken.copy()\n",
    "# 複数の処理を続けて書くことができます(パイプライン)\n",
    "df_kaken_2 = df_kaken_2.dropna(axis=1, how='any')[['研究課題名','研究種目','総配分額']][(df_kaken_2['総配分額'] > df_kaken_2['総配分額'].mode().values[0]) & (df_kaken_2['研究種目'].str.contains('C'))].sort_values(by='総配分額').reset_index(drop=True)\n",
    "df_kaken_2"
   ]
  },
  {
   "cell_type": "code",
   "execution_count": null,
   "metadata": {},
   "outputs": [],
   "source": [
    "# copy\n",
    "df_kaken_3 = df_kaken.copy()\n",
    "\n",
    "# 見やすい例1\n",
    "df_kaken_3 = (df_kaken_3.dropna(axis=1, how='any') \\\n",
    "            [['研究課題名','研究種目','総配分額']] \\\n",
    "            [(df_kaken_3['総配分額'] > df_kaken_3['総配分額'].mode().values[0]) & (df_kaken_3['研究種目'].str.contains('C'))] \\\n",
    "            .sort_values(by='総配分額') \\\n",
    "            .reset_index(drop=True)\n",
    "            ) \n",
    "df_kaken_3"
   ]
  },
  {
   "cell_type": "code",
   "execution_count": null,
   "metadata": {},
   "outputs": [],
   "source": [
    "# copy\n",
    "df_kaken_4 = df_kaken.copy()\n",
    "\n",
    "# 見やすい例2\n",
    "def drop_na_cols(df):\n",
    "    return df.dropna(axis=1, how='any')\n",
    "\n",
    "def filter_rows(df):\n",
    "    return df[(df['総配分額'] > df['総配分額'].mode()[0]) & (df['研究種目'].str.contains('C'))]\n",
    "\n",
    "def select_columns(df):\n",
    "    return df[['研究課題名','研究種目','総配分額']]\n",
    "\n",
    "def sort_values(df):\n",
    "    return df.sort_values(by='総配分額')\n",
    "\n",
    "def reset_idx(df):\n",
    "    return df.reset_index(drop=True)\n",
    "\n",
    "df_kaken_4 = (df_kaken_4\n",
    "            .pipe(drop_na_cols)\n",
    "            .pipe(filter_rows)\n",
    "            .pipe(select_columns)\n",
    "            .pipe(sort_values)\n",
    "            .pipe(reset_idx)\n",
    "           )\n",
    "df_kaken_4"
   ]
  },
  {
   "cell_type": "code",
   "execution_count": null,
   "metadata": {},
   "outputs": [],
   "source": [
    "# copy\n",
    "df_kaken_5 = df_kaken.copy()\n",
    "\n",
    "# 見やすい例3\n",
    "def process_dataframe(df):\n",
    "    df = df.dropna(axis=1, how='any')\n",
    "    df = df[(df['総配分額'] > df['総配分額'].mode()[0]) & (df['研究種目'].str.contains('C'))]\n",
    "    df = df[['研究課題名','研究種目','総配分額']]\n",
    "    df = df.sort_values(by='総配分額')\n",
    "    df = df.reset_index(drop=True)\n",
    "    return df\n",
    "\n",
    "df_kaken_5 = df_kaken_5.pipe(process_dataframe)\n",
    "df_kaken_5"
   ]
  }
 ],
 "metadata": {
  "kernelspec": {
   "display_name": "Python 3",
   "language": "python",
   "name": "python3"
  },
  "language_info": {
   "codemirror_mode": {
    "name": "ipython",
    "version": 3
   },
   "file_extension": ".py",
   "mimetype": "text/x-python",
   "name": "python",
   "nbconvert_exporter": "python",
   "pygments_lexer": "ipython3",
   "version": "3.10.1"
  },
  "orig_nbformat": 4
 },
 "nbformat": 4,
 "nbformat_minor": 2
}
