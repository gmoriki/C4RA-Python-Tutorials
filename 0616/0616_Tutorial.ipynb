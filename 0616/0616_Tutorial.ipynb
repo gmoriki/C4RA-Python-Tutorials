{
 "cells": [
  {
   "attachments": {},
   "cell_type": "markdown",
   "metadata": {},
   "source": [
    "<a href=\"https://colab.research.google.com/github/gmoriki/C4RA-Python-Tutorials/blob/main/0616/0616_Tutorial.ipynb\" target=\"_parent\"><img src=\"https://colab.research.google.com/assets/colab-badge.svg\" alt=\"Open In Colab\"/></a>"
   ]
  },
  {
   "attachments": {},
   "cell_type": "markdown",
   "metadata": {},
   "source": [
    "# 第6回C4RA勉強会\n",
    "## DataFrameのデータ統計と集計\n",
    "---"
   ]
  },
  {
   "attachments": {},
   "cell_type": "markdown",
   "metadata": {},
   "source": [
    "## ★ 勉強会の基本方針"
   ]
  },
  {
   "attachments": {},
   "cell_type": "markdown",
   "metadata": {},
   "source": [
    "* 5月12日(金)から6月30日(金)までの計8回を予定しています。\n",
    "* 目標は**pandas.DataFrame形式の基本的な操作をマスターすること**です。"
   ]
  },
  {
   "attachments": {},
   "cell_type": "markdown",
   "metadata": {},
   "source": [
    "* 環境はGoogle Colaboratory(通称Colab)を使用します。Googleアカウントをご用意ください。\n",
    "  * 各々のローカル環境でも実行可能です。\n",
    "* 一部、東京大学「Pythonプログラミング入門」の教材を共有しながら勉強会を進めます。\n",
    "  * 勉強会では**東大教材**と呼びます\n",
    "  * URL：https://utokyo-ipp.github.io/index.html"
   ]
  },
  {
   "attachments": {},
   "cell_type": "markdown",
   "metadata": {},
   "source": [
    "* Colab（Jupyter Notebook）の詳しい使い方について、勉強会の中で深入りはしません\n",
    "  * Colab立ち上げのURL：https://colab.research.google.com/\n",
    "  * 便利なショートカット：https://blog.kikagaku.co.jp/google-colaboratory-shortcut"
   ]
  },
  {
   "attachments": {},
   "cell_type": "markdown",
   "metadata": {},
   "source": [
    "* Pythonに関する不明点があれば森木(Pumble,Mail,Twitter等)までご連絡ください\n",
    "* 勉強会の内容でなくてもOKです（Colabの使い方や環境構築なども）\n",
    "---"
   ]
  },
  {
   "attachments": {},
   "cell_type": "markdown",
   "metadata": {},
   "source": [
    "## ■ pandasの概要(前回のおさらい)"
   ]
  },
  {
   "attachments": {},
   "cell_type": "markdown",
   "metadata": {},
   "source": [
    "### pandas（概要）\n",
    "\n",
    "* **データ構造**：DataFrameとSeriesを提供。\n",
    "* **データ操作**：フィルタリング、ソート、集約などの機能。\n",
    "* **入出力**：CSVやExcelなどのファイル形式とのやり取り。\n",
    "* **欠損値処理**：欠損値の検出や補完、削除が可能。"
   ]
  },
  {
   "cell_type": "code",
   "execution_count": null,
   "metadata": {},
   "outputs": [],
   "source": [
    "import pandas as pd\n",
    "\n",
    "# データフレーム作成\n",
    "data = {'Name': ['Alice', 'Bob', 'Charlie'],\n",
    "        'Age': [25, 30, 35],\n",
    "        'City': ['New York', 'San Francisco', 'Los Angeles']}\n",
    "df = pd.DataFrame(data)\n",
    "\n",
    "# データフレームから年齢が30以上の行を抽出\n",
    "older_than_30 = df[df['Age'] >= 30]\n",
    "\n",
    "# CSVファイルに書き込み\n",
    "df.to_csv(\"sample_data.csv\", index=False)\n",
    "\n",
    "# CSVファイルから読み込み\n",
    "df_from_csv = pd.read_csv(\"sample_data.csv\")"
   ]
  },
  {
   "attachments": {},
   "cell_type": "markdown",
   "metadata": {},
   "source": [
    "#### **東大教材(pandas)**\n",
    "* 7-1. pandasライブラリ\n",
    "  * https://colab.research.google.com/github/utokyo-ipp/utokyo-ipp.github.io/blob/master/colab/7/7-1.ipynb"
   ]
  },
  {
   "attachments": {},
   "cell_type": "markdown",
   "metadata": {},
   "source": [
    "## ■ データの選択\n",
    "\n",
    "DataFrameから特定のデータを選択する方法について学びましょう。\n",
    "\n",
    "また指定した行をコメントアウトするには`Ctrl+/`を実行します・"
   ]
  },
  {
   "attachments": {},
   "cell_type": "markdown",
   "metadata": {},
   "source": [
    "### データの読み込み・インデックスの付与"
   ]
  },
  {
   "cell_type": "code",
   "execution_count": null,
   "metadata": {},
   "outputs": [],
   "source": [
    "df = pd.read_csv(\"sample_data.csv\")\n",
    "df.set_index(pd.Index(['index_1', 'index_2', 'index_3']), inplace=True)\n",
    "df"
   ]
  },
  {
   "attachments": {},
   "cell_type": "markdown",
   "metadata": {},
   "source": [
    "### データの選択① 列を指定する"
   ]
  },
  {
   "attachments": {},
   "cell_type": "markdown",
   "metadata": {},
   "source": [
    "データフレームからデータを選択する基本的な方法は2つあります。一つは列を選択する方法、もう一つは行を選択する方法です。\n",
    "\n",
    "列を選択するには、列の名前をブラケット(`[]`)と一緒に使用します。例えば、`df['Name']`とすると、'Name'という名前の列が選択されます。"
   ]
  },
  {
   "cell_type": "code",
   "execution_count": null,
   "metadata": {},
   "outputs": [],
   "source": [
    "# 列の選択\n",
    "df['Name']"
   ]
  },
  {
   "attachments": {},
   "cell_type": "markdown",
   "metadata": {},
   "source": [
    "複数の列を選択するには、列の名前をリストとしてブラケット内に渡します。例えば、`df[['Name', 'Age']]`とすると、'Name'と'Age'の2つの列が選択されます。"
   ]
  },
  {
   "cell_type": "code",
   "execution_count": null,
   "metadata": {},
   "outputs": [],
   "source": [
    "# 複数列の選択\n",
    "df[['Name', 'Age']]"
   ]
  },
  {
   "cell_type": "code",
   "execution_count": null,
   "metadata": {},
   "outputs": [],
   "source": [
    "# 参考：フィルター関数による複数列の選択\n",
    "df.filter(like='e')"
   ]
  },
  {
   "attachments": {},
   "cell_type": "markdown",
   "metadata": {},
   "source": [
    "### データの選択② 行を指定する+列と行を指定する"
   ]
  },
  {
   "attachments": {},
   "cell_type": "markdown",
   "metadata": {},
   "source": [
    "`loc`は`pandas`の`DataFrame`で使用できるラベルベースのインデクシングツールです。`loc`はラベルベースのインデクシングなので、ラベル名（インデックス名や列名）を使用してデータにアクセスします。\n",
    "\n",
    "例えば、`df.loc[0]`を使用すると、ラベル（インデックス）が0の行を選択します。\n",
    "\n",
    "行と列を選択するには以下のようにします：\n",
    "\n",
    "- 行選択: `df.loc[0]` これはインデックスが0の行を選択します。\n",
    "- 列選択: `df.loc[:, 'ColumnName']` これは'ColumnName'という名前の列を選択します。\n",
    "- 行と列の選択: `df.loc[0, 'ColumnName']` これはインデックスが0の行と'ColumnName'という名前の列にある要素を選択します。\n",
    "\n",
    "また、範囲を指定して選択することも可能です。例えば、`df.loc[0:2]`はインデックス0から2までの行を選択し、`df.loc[:, 'ColumnName1':'ColumnName3']`は'ColumnName1'から'ColumnName3'までの列を選択します。`df.loc[0:2, 'ColumnName1':'ColumnName3']`はインデックス0から2までの行と'ColumnName1'から'ColumnName3'までの列の部分的なDataFrameを選択します。"
   ]
  },
  {
   "cell_type": "code",
   "execution_count": null,
   "metadata": {},
   "outputs": [],
   "source": [
    "# 行の選択\n",
    "df.loc['index_1']"
   ]
  },
  {
   "cell_type": "code",
   "execution_count": null,
   "metadata": {},
   "outputs": [],
   "source": [
    "# 複数行の選択\n",
    "df.loc[['index_1','index_2']]"
   ]
  },
  {
   "cell_type": "code",
   "execution_count": null,
   "metadata": {},
   "outputs": [],
   "source": [
    "# 全てのインデックスと一つの列を指定\n",
    "df.loc[:,'Age']"
   ]
  },
  {
   "cell_type": "code",
   "execution_count": null,
   "metadata": {},
   "outputs": [],
   "source": [
    "# 全てのインデックスと複数の列を指定\n",
    "df.loc[:,['Age','Name']]"
   ]
  },
  {
   "cell_type": "code",
   "execution_count": null,
   "metadata": {},
   "outputs": [],
   "source": [
    "# 一つのインデックスと一つの列を指定\n",
    "df.loc['index_1','Age']"
   ]
  },
  {
   "cell_type": "code",
   "execution_count": null,
   "metadata": {},
   "outputs": [],
   "source": [
    "# 繰り返し処理により値を出力することも可能\n",
    "for column in df.columns:\n",
    "    print(df.loc['index_1',column])"
   ]
  },
  {
   "attachments": {},
   "cell_type": "markdown",
   "metadata": {},
   "source": [
    "`iloc`は`pandas`の`DataFrame`で使用できる整数位置ベースのインデクシングツールです。`loc`がラベルベースのインデクシングであるのに対し、`iloc`は位置ベースのインデクシングです。つまり、`iloc`では整数値のインデックス番号を使用してデータにアクセスします。\n",
    "\n",
    "例えば、`df.iloc[0]`を使用すると、DataFrameの最初の行を選択します。これはPythonのリストのインデクシングと同じように機能します。\n",
    "\n",
    "行と列を選択するには以下のようにします：\n",
    "\n",
    "- 行選択: `df.iloc[0]` これはDataFrameの最初の行を選択します。\n",
    "- 列選択: `df.iloc[:, 0]` これはDataFrameの最初の列を選択します。\n",
    "- 行と列の選択: `df.iloc[0, 0]` これはDataFrameの最初の行と最初の列にある要素を選択します。\n",
    "\n",
    "また、範囲を指定して選択することも可能です。例えば、`df.iloc[0:5]`は最初の5行を選択し、`df.iloc[:, 0:5]`は最初の5列を選択します。`df.iloc[0:5, 0:5]`は最初の5行と5列の部分的なDataFrameを選択します。"
   ]
  },
  {
   "cell_type": "code",
   "execution_count": null,
   "metadata": {},
   "outputs": [],
   "source": [
    "# 行の選択\n",
    "df.iloc[0]"
   ]
  },
  {
   "cell_type": "code",
   "execution_count": null,
   "metadata": {},
   "outputs": [],
   "source": [
    "# 複数行の選択\n",
    "df.iloc[0:2]"
   ]
  },
  {
   "cell_type": "code",
   "execution_count": null,
   "metadata": {},
   "outputs": [],
   "source": [
    "# 全てのインデックスと一つの列を指定\n",
    "df.iloc[:,1] # Age列"
   ]
  },
  {
   "cell_type": "code",
   "execution_count": null,
   "metadata": {},
   "outputs": [],
   "source": [
    "# 全てのインデックスと複数の列を指定\n",
    "df.iloc[:,[1,0]]"
   ]
  },
  {
   "cell_type": "code",
   "execution_count": null,
   "metadata": {},
   "outputs": [],
   "source": [
    "# 一つのインデックスと一つの列を指定\n",
    "df.iloc[0,1]"
   ]
  },
  {
   "cell_type": "code",
   "execution_count": null,
   "metadata": {},
   "outputs": [],
   "source": [
    "# 繰り返し処理により値を出力することも可能\n",
    "for column in range(len(df)):\n",
    "    print(df.iloc[0,column])"
   ]
  },
  {
   "attachments": {},
   "cell_type": "markdown",
   "metadata": {},
   "source": [
    "## ■ データの抽出\n",
    "\n",
    "特定の条件を満たすデータを抽出する方法について学びましょう。"
   ]
  },
  {
   "attachments": {},
   "cell_type": "markdown",
   "metadata": {},
   "source": [
    "特定の条件を満たすデータを抽出するには、ブールインデックスを使用します。ブールインデックスとは、各行が条件を満たすか満たさないかをTrueまたはFalseで示したものです。\n",
    "\n",
    "例えば、'Age'が30以上のデータを抽出するには、`df['Age'] >= 30`という条件をデータフレームに適用します。この条件は、各行の'Age'が30以上であればTrue、そうでなければFalseというブールインデックスを作成します。そして、このブールインデックスをデータフレームに適用することで、条件を満たす行だけが選択されます。"
   ]
  },
  {
   "cell_type": "code",
   "execution_count": null,
   "metadata": {},
   "outputs": [],
   "source": [
    "df['Age'] >= 30"
   ]
  },
  {
   "cell_type": "code",
   "execution_count": null,
   "metadata": {},
   "outputs": [],
   "source": [
    "# Ageが30以上のデータを抽出\n",
    "df[df['Age'] >= 30]"
   ]
  },
  {
   "cell_type": "code",
   "execution_count": null,
   "metadata": {},
   "outputs": [],
   "source": [
    "# Ageが30以上のデータ かつ 値に'Ch'を含む行を抽出\n",
    "df[(df['Age'] >= 30) & (df['Name'].str.contains('Ch'))]"
   ]
  },
  {
   "cell_type": "code",
   "execution_count": null,
   "metadata": {},
   "outputs": [],
   "source": [
    "# 参考：スッキリした書き方 queryメソッド\n",
    "mask = df['Name'].str.contains('Ch')\n",
    "df[mask].query(\"`Age` >= 30\")"
   ]
  },
  {
   "cell_type": "code",
   "execution_count": null,
   "metadata": {},
   "outputs": [],
   "source": [
    "df.filter(like='e')"
   ]
  },
  {
   "attachments": {},
   "cell_type": "markdown",
   "metadata": {},
   "source": [
    "## ■ データの整形\n",
    "\n",
    "データを整形するための基本的な操作について学びましょう。"
   ]
  },
  {
   "attachments": {},
   "cell_type": "markdown",
   "metadata": {},
   "source": [
    "PandasのDataFrameでは、新しい列の追加、列名の変更、および列の削除が可能です。\n",
    "\n",
    "1. **新しい列の追加**: 新しい列を追加するには、新しい列名をブラケット演算子(`[]`)の中に指定し、その値に新しいデータ（スカラー値、リスト、Series等）を割り当てます。\n",
    "\n",
    "```python\n",
    "df['new_column'] = value\n",
    "```\n",
    "\n",
    "ここで、`value`は新しい列に割り当てる値（スカラー値、リスト、シリーズなど）です。\n",
    "\n",
    "2. **列名の変更**: 列名を変更するには、`rename()`メソッドを使用します。`rename()`メソッドは新しいDataFrameを返しますので、元のDataFrameに変更を反映させるためには`inplace=True`を指定する必要があります。\n",
    "\n",
    "```python\n",
    "df.rename(columns={'old_name': 'new_name'}, inplace=True)\n",
    "```\n",
    "\n",
    "ここで、`'old_name'`は変更前の列名で、`'new_name'`は変更後の列名です。\n",
    "\n",
    "3. **列の削除**: 列を削除するには`drop()`メソッドを使用します。`drop()`メソッドは新しいDataFrameを返しますので、元のDataFrameに変更を反映させるためには`inplace=True`を指定する必要があります。\n",
    "\n",
    "```python\n",
    "df.drop('column_name', axis=1, inplace=True)\n",
    "```\n",
    "\n",
    "ここで、`'column_name'`は削除する列名です。`axis=1`は列方向に操作を行うことを示しています。\n",
    "\n",
    "これらの操作は元のDataFrameを直接変更しません。DataFrameに変更を直接反映させるには`inplace=True`を指定します。"
   ]
  },
  {
   "cell_type": "code",
   "execution_count": null,
   "metadata": {},
   "outputs": [],
   "source": [
    "# 新しい列の追加\n",
    "df['Profession'] = ['Engineer', 'Doctor', 'Artist']\n",
    "df"
   ]
  },
  {
   "cell_type": "code",
   "execution_count": null,
   "metadata": {},
   "outputs": [],
   "source": [
    "# 列の名前の変更\n",
    "df = df.rename(columns={'Name': 'FirstName','Profession':'職業'})\n",
    "df"
   ]
  },
  {
   "cell_type": "code",
   "execution_count": null,
   "metadata": {},
   "outputs": [],
   "source": [
    "# 列の削除\n",
    "df = df.drop('Age', axis=1)\n",
    "df"
   ]
  },
  {
   "cell_type": "code",
   "execution_count": null,
   "metadata": {},
   "outputs": [],
   "source": [
    "# 'Age'列を再追加\n",
    "df['Age'] = [25, 30, 35]\n",
    "df"
   ]
  },
  {
   "attachments": {},
   "cell_type": "markdown",
   "metadata": {},
   "source": [
    "PandasのDataFrameでは、`fillna()`、`dropna()`などのメソッドを用いて欠損値(NaN)を処理することが可能です。\n",
    "\n",
    "1. `fillna()`: 欠損値を特定の値で埋めます。\n",
    "\n",
    "```python\n",
    "df.fillna(value) \n",
    "```\n",
    "\n",
    "ここで`value`は任意の値（スカラー値、辞書、シリーズ、データフレーム）をとることができます。たとえば、すべての欠損値を0で埋める場合は`df.fillna(0)`とします。\n",
    "\n",
    "2. `dropna()`: 欠損値を含む行または列を削除します。\n",
    "\n",
    "```python\n",
    "df.dropna()\n",
    "```\n",
    "\n",
    "`dropna()`を使用すると、デフォルトでは欠損値を1つでも含む行がすべて削除されます。列を削除するには引数に`axis=1`を指定します（`df.dropna(axis=1)`）。\n",
    "\n",
    "以上のメソッドは新しいDataFrameを返すだけで、元のDataFrameは変更されません。元のDataFrameを直接変更するには`inplace=True`を指定します（`df.fillna(value, inplace=True)`、`df.dropna(inplace=True)`）。\n",
    "\n",
    "また、`isna()`や`notna()`メソッドを使用して、各要素が欠損値かどうかを確認することも可能です。これらのメソッドは各要素が欠損値であるか（`isna()`）または欠損値でないか（`notna()`）を示すブール値のDataFrameを返します。\n",
    "\n",
    "```python\n",
    "df.isna()  # 各要素が欠損値かどうかを示すブール値のDataFrameを返す\n",
    "df.notna()  # 各要素が欠損値でないかを示すブール値のDataFrameを返す\n",
    "```"
   ]
  },
  {
   "cell_type": "code",
   "execution_count": null,
   "metadata": {},
   "outputs": [],
   "source": [
    "import numpy as np\n",
    "# Nan処理\n",
    "df['NanTest'] = [np.nan,100,500]\n",
    "df"
   ]
  },
  {
   "cell_type": "code",
   "execution_count": null,
   "metadata": {},
   "outputs": [],
   "source": [
    "df.isna()"
   ]
  },
  {
   "cell_type": "code",
   "execution_count": null,
   "metadata": {},
   "outputs": [],
   "source": [
    "df.fillna(0)"
   ]
  },
  {
   "cell_type": "code",
   "execution_count": null,
   "metadata": {},
   "outputs": [],
   "source": [
    "# Nanを含む行を削除した結果\n",
    "df.dropna(axis=0, how='any')"
   ]
  },
  {
   "cell_type": "code",
   "execution_count": null,
   "metadata": {},
   "outputs": [],
   "source": [
    "df.dropna(axis=1, how='any')"
   ]
  },
  {
   "attachments": {},
   "cell_type": "markdown",
   "metadata": {},
   "source": [
    "## ■ 実践っぽいこと[参考]"
   ]
  },
  {
   "cell_type": "code",
   "execution_count": null,
   "metadata": {},
   "outputs": [],
   "source": [
    "## ファイルの取得\n",
    "!wget -P . https://raw.githubusercontent.com/gmoriki/C4RA-Python-Tutorials/master/0609/kaken.nii.ac.jp_2023-06-07_10-57-32.csv"
   ]
  },
  {
   "cell_type": "code",
   "execution_count": null,
   "metadata": {},
   "outputs": [],
   "source": [
    "df_kaken = pd.read_csv('./kaken.nii.ac.jp_2023-06-07_10-57-32.csv')\n",
    "df_kaken.head(5)"
   ]
  },
  {
   "cell_type": "code",
   "execution_count": null,
   "metadata": {},
   "outputs": [],
   "source": [
    "df_kaken.tail(5)"
   ]
  },
  {
   "cell_type": "code",
   "execution_count": null,
   "metadata": {},
   "outputs": [],
   "source": [
    "df_kaken.columns"
   ]
  },
  {
   "cell_type": "code",
   "execution_count": null,
   "metadata": {},
   "outputs": [],
   "source": [
    "df_kaken['研究種目'].value_counts()"
   ]
  },
  {
   "cell_type": "code",
   "execution_count": null,
   "metadata": {},
   "outputs": [],
   "source": [
    "df_kaken['研究期間 (年度)'].str.startswith('2023').value_counts()"
   ]
  },
  {
   "cell_type": "code",
   "execution_count": null,
   "metadata": {},
   "outputs": [],
   "source": [
    "df_kaken.dropna(axis=1, how='any')"
   ]
  },
  {
   "cell_type": "code",
   "execution_count": null,
   "metadata": {},
   "outputs": [],
   "source": [
    "df_kaken.dropna(axis=1, how='any')[['研究課題名','研究種目','総配分額']]"
   ]
  },
  {
   "attachments": {},
   "cell_type": "markdown",
   "metadata": {},
   "source": [
    "### オマケ：パイプラインについて"
   ]
  },
  {
   "cell_type": "code",
   "execution_count": null,
   "metadata": {},
   "outputs": [],
   "source": [
    "# copy\n",
    "df_kaken_1 = df_kaken.copy()\n",
    "# こうやって書くと大変\n",
    "\n",
    "# 欠損値を削除\n",
    "df_kaken_1 = df_kaken_1.dropna(axis=1, how='any')\n",
    "\n",
    "# 必要な列だけを選択\n",
    "df_kaken_1 = df_kaken_1[['研究課題名','研究種目','総配分額']]\n",
    "\n",
    "# 条件に合う行を選択\n",
    "mask = (df_kaken_1['総配分額'] > df_kaken_1['総配分額'].mode().values[0]) & (df_kaken_1['研究種目'].str.contains('C'))\n",
    "df_kaken_1 = df_kaken_1[mask]\n",
    "\n",
    "# '総配分額'でソート\n",
    "df_kaken_1 = df_kaken_1.sort_values(by='総配分額')\n",
    "\n",
    "# インデックスをリセット\n",
    "df_kaken_1 = df_kaken_1.reset_index(drop=True)\n",
    "df_kaken_1"
   ]
  },
  {
   "cell_type": "code",
   "execution_count": null,
   "metadata": {},
   "outputs": [],
   "source": [
    "# copy\n",
    "df_kaken_2 = df_kaken.copy()\n",
    "# 複数の処理を続けて書くことができます(パイプライン)\n",
    "df_kaken_2 = df_kaken_2.dropna(axis=1, how='any')[['研究課題名','研究種目','総配分額']][(df_kaken_2['総配分額'] > df_kaken_2['総配分額'].mode().values[0]) & (df_kaken_2['研究種目'].str.contains('C'))].sort_values(by='総配分額').reset_index(drop=True)\n",
    "df_kaken_2"
   ]
  },
  {
   "cell_type": "code",
   "execution_count": null,
   "metadata": {},
   "outputs": [],
   "source": [
    "# copy\n",
    "df_kaken_3 = df_kaken.copy()\n",
    "\n",
    "# 見やすい例1\n",
    "df_kaken_3 = (df_kaken_3.dropna(axis=1, how='any') \\\n",
    "            [['研究課題名','研究種目','総配分額']] \\\n",
    "            [(df_kaken_3['総配分額'] > df_kaken_3['総配分額'].mode().values[0]) & (df_kaken_3['研究種目'].str.contains('C'))] \\\n",
    "            .sort_values(by='総配分額') \\\n",
    "            .reset_index(drop=True)\n",
    "            ) \n",
    "df_kaken_3"
   ]
  },
  {
   "cell_type": "code",
   "execution_count": null,
   "metadata": {},
   "outputs": [],
   "source": [
    "# copy\n",
    "df_kaken_4 = df_kaken.copy()\n",
    "\n",
    "# 見やすい例2\n",
    "def drop_na_cols(df):\n",
    "    return df.dropna(axis=1, how='any')\n",
    "\n",
    "def filter_rows(df):\n",
    "    return df[(df['総配分額'] > df['総配分額'].mode()[0]) & (df['研究種目'].str.contains('C'))]\n",
    "\n",
    "def select_columns(df):\n",
    "    return df[['研究課題名','研究種目','総配分額']]\n",
    "\n",
    "def sort_values(df):\n",
    "    return df.sort_values(by='総配分額')\n",
    "\n",
    "def reset_idx(df):\n",
    "    return df.reset_index(drop=True)\n",
    "\n",
    "df_kaken_4 = (df_kaken_4\n",
    "            .pipe(drop_na_cols)\n",
    "            .pipe(filter_rows)\n",
    "            .pipe(select_columns)\n",
    "            .pipe(sort_values)\n",
    "            .pipe(reset_idx)\n",
    "           )\n",
    "df_kaken_4"
   ]
  },
  {
   "cell_type": "code",
   "execution_count": null,
   "metadata": {},
   "outputs": [],
   "source": [
    "# copy\n",
    "df_kaken_5 = df_kaken.copy()\n",
    "\n",
    "# 見やすい例3\n",
    "def process_dataframe(df):\n",
    "    df = df.dropna(axis=1, how='any')\n",
    "    df = df[(df['総配分額'] > df['総配分額'].mode()[0]) & (df['研究種目'].str.contains('C'))]\n",
    "    df = df[['研究課題名','研究種目','総配分額']]\n",
    "    df = df.sort_values(by='総配分額')\n",
    "    df = df.reset_index(drop=True)\n",
    "    return df\n",
    "\n",
    "df_kaken_5 = df_kaken_5.pipe(process_dataframe)\n",
    "df_kaken_5"
   ]
  },
  {
   "attachments": {},
   "cell_type": "markdown",
   "metadata": {},
   "source": [
    "### よくやるやつ"
   ]
  },
  {
   "cell_type": "code",
   "execution_count": null,
   "metadata": {},
   "outputs": [],
   "source": [
    "# 新しいカラムの追加\n",
    "df_kaken['総配分額[百万]'] = df_kaken['総配分額'] / 1000000"
   ]
  },
  {
   "cell_type": "code",
   "execution_count": null,
   "metadata": {},
   "outputs": [],
   "source": [
    "df_kaken"
   ]
  }
 ],
 "metadata": {
  "kernelspec": {
   "display_name": "Python 3",
   "language": "python",
   "name": "python3"
  },
  "language_info": {
   "codemirror_mode": {
    "name": "ipython",
    "version": 3
   },
   "file_extension": ".py",
   "mimetype": "text/x-python",
   "name": "python",
   "nbconvert_exporter": "python",
   "pygments_lexer": "ipython3",
   "version": "3.10.1"
  },
  "orig_nbformat": 4
 },
 "nbformat": 4,
 "nbformat_minor": 2
}
