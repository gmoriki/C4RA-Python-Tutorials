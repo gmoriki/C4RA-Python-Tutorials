{
 "cells": [
  {
   "attachments": {},
   "cell_type": "markdown",
   "metadata": {},
   "source": [
    "<a href=\"https://colab.research.google.com/github/gmoriki/C4RA-Python-Tutorials/blob/main/0602/0602_Tutorial.ipynb\" target=\"_parent\"><img src=\"https://colab.research.google.com/assets/colab-badge.svg\" alt=\"Open In Colab\"/></a>"
   ]
  },
  {
   "attachments": {},
   "cell_type": "markdown",
   "metadata": {},
   "source": [
    "# 第4回C4RA勉強会\n",
    "## pandasの概要とファイル入出力\n",
    "---"
   ]
  },
  {
   "attachments": {},
   "cell_type": "markdown",
   "metadata": {},
   "source": [
    "## ★ 勉強会の基本方針"
   ]
  },
  {
   "cell_type": "markdown",
   "metadata": {},
   "source": [
    "* 5月12日(金)から6月30日(金)までの計8回を予定しています。\n",
    "* 目標は**pandas.DataFrame形式の基本的な操作をマスターすること**です。"
   ]
  },
  {
   "cell_type": "markdown",
   "metadata": {},
   "source": [
    "* 環境はGoogle Colaboratory(通称Colab)を使用します。Googleアカウントをご用意ください。\n",
    "  * 各々のローカル環境でも実行可能です。\n",
    "* 一部、東京大学「Pythonプログラミング入門」の教材を共有しながら勉強会を進めます。\n",
    "  * 勉強会では**東大教材**と呼びます\n",
    "  * URL：https://utokyo-ipp.github.io/index.html"
   ]
  },
  {
   "cell_type": "markdown",
   "metadata": {},
   "source": [
    "* Colab（Jupyter Notebook）の詳しい使い方について、勉強会の中で深入りはしません\n",
    "  * Colab立ち上げのURL：https://colab.research.google.com/\n",
    "  * 便利なショートカット：https://blog.kikagaku.co.jp/google-colaboratory-shortcut"
   ]
  },
  {
   "cell_type": "markdown",
   "metadata": {},
   "source": [
    "* Pythonに関する不明点があれば森木(Pumble,Mail,Twitter等)までご連絡ください\n",
    "* 勉強会の内容でなくてもOKです（Colabの使い方や環境構築なども）\n",
    "---"
   ]
  },
  {
   "attachments": {},
   "cell_type": "markdown",
   "metadata": {},
   "source": [
    "## ■ pandasの概要とファイル入出力"
   ]
  },
  {
   "cell_type": "markdown",
   "metadata": {},
   "source": [
    "### ファイル入出力\n",
    "\n",
    "* **ファイルオープン**：open()関数でファイルを開く。\n",
    "* **読み込み・書き込み**：read()やwrite()メソッドでデータの読み書き。\n",
    "* **ファイルクローズ**：close()メソッドでファイルを閉じる。\n",
    "* **コンテキストマネージャ**：withステートメントを使用してリソースの管理。"
   ]
  },
  {
   "cell_type": "code",
   "execution_count": null,
   "metadata": {},
   "outputs": [
    {
     "name": "stdout",
     "output_type": "stream",
     "text": [
      "Hello, World!\n",
      "\n"
     ]
    }
   ],
   "source": [
    "# 書き込み\n",
    "with open(\"sample.txt\", \"w\") as f:\n",
    "    f.write(\"Hello, World!\\n\")\n",
    "\n",
    "# 読み込み\n",
    "with open(\"sample.txt\", \"r\") as f:\n",
    "    content = f.read()\n",
    "    print(content)"
   ]
  },
  {
   "cell_type": "markdown",
   "metadata": {},
   "source": [
    "#### **東大教材(ファイル入出力)**\n",
    "* 4-1. ファイル入出力の基本\n",
    "  * https://colab.research.google.com/github/utokyo-ipp/utokyo-ipp.github.io/blob/master/colab/4/4-1.ipynb"
   ]
  },
  {
   "attachments": {},
   "cell_type": "markdown",
   "metadata": {},
   "source": [
    "### pandas（概要）\n",
    "\n",
    "* **データ構造**：DataFrameとSeriesを提供。\n",
    "* **データ操作**：フィルタリング、ソート、集約などの機能。\n",
    "* **入出力**：CSVやExcelなどのファイル形式とのやり取り。\n",
    "* **欠損値処理**：欠損値の検出や補完、削除が可能。"
   ]
  },
  {
   "cell_type": "code",
   "execution_count": null,
   "metadata": {},
   "outputs": [],
   "source": [
    "import pandas as pd\n",
    "\n",
    "# データフレーム作成\n",
    "data = {'Name': ['Alice', 'Bob', 'Charlie'],\n",
    "        'Age': [25, 30, 35],\n",
    "        'City': ['New York', 'San Francisco', 'Los Angeles']}\n",
    "df = pd.DataFrame(data)\n",
    "\n",
    "# データフレームから年齢が30以上の行を抽出\n",
    "older_than_30 = df[df['Age'] >= 30]\n",
    "\n",
    "# CSVファイルに書き込み\n",
    "df.to_csv(\"sample_data.csv\", index=False)\n",
    "\n",
    "# CSVファイルから読み込み\n",
    "df_from_csv = pd.read_csv(\"sample_data.csv\")"
   ]
  },
  {
   "attachments": {},
   "cell_type": "markdown",
   "metadata": {},
   "source": [
    "#### **東大教材(pandas)**\n",
    "* 7-1. pandasライブラリ\n",
    "  * https://colab.research.google.com/github/utokyo-ipp/utokyo-ipp.github.io/blob/master/colab/7/7-1.ipynb"
   ]
  }
 ],
 "metadata": {
  "kernelspec": {
   "display_name": "Python 3",
   "language": "python",
   "name": "python3"
  },
  "language_info": {
   "codemirror_mode": {
    "name": "ipython",
    "version": 3
   },
   "file_extension": ".py",
   "mimetype": "text/x-python",
   "name": "python",
   "nbconvert_exporter": "python",
   "pygments_lexer": "ipython3",
   "version": "3.10.1"
  },
  "orig_nbformat": 4
 },
 "nbformat": 4,
 "nbformat_minor": 2
}
