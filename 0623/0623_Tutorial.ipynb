{
 "cells": [
  {
   "attachments": {},
   "cell_type": "markdown",
   "metadata": {},
   "source": [
    "<a href=\"https://colab.research.google.com/github/gmoriki/C4RA-Python-Tutorials/blob/main/0623/0623_Tutorial.ipynb\" target=\"_parent\"><img src=\"https://colab.research.google.com/assets/colab-badge.svg\" alt=\"Open In Colab\"/></a>"
   ]
  },
  {
   "attachments": {},
   "cell_type": "markdown",
   "metadata": {},
   "source": [
    "# 第7回C4RA勉強会\n",
    "## DataFrameのデータ結合・マージ\n",
    "\n",
    "---"
   ]
  },
  {
   "attachments": {},
   "cell_type": "markdown",
   "metadata": {},
   "source": [
    "## ★ 勉強会の基本方針"
   ]
  },
  {
   "attachments": {},
   "cell_type": "markdown",
   "metadata": {},
   "source": [
    "* 5月12日(金)から6月30日(金)までの計8回を予定しています。\n",
    "* 目標は**pandas.DataFrame形式の基本的な操作をマスターすること**です。"
   ]
  },
  {
   "attachments": {},
   "cell_type": "markdown",
   "metadata": {},
   "source": [
    "* 環境はGoogle Colaboratory(通称Colab)を使用します。Googleアカウントをご用意ください。\n",
    "  * 各々のローカル環境でも実行可能です。\n",
    "* 一部、東京大学「Pythonプログラミング入門」の教材を共有しながら勉強会を進めます。\n",
    "  * 勉強会では**東大教材**と呼びます\n",
    "  * URL：https://utokyo-ipp.github.io/index.html"
   ]
  },
  {
   "attachments": {},
   "cell_type": "markdown",
   "metadata": {},
   "source": [
    "* Colab（Jupyter Notebook）の詳しい使い方について、勉強会の中で深入りはしません\n",
    "  * Colab立ち上げのURL：https://colab.research.google.com/\n",
    "  * 便利なショートカット：https://blog.kikagaku.co.jp/google-colaboratory-shortcut"
   ]
  },
  {
   "attachments": {},
   "cell_type": "markdown",
   "metadata": {},
   "source": [
    "* Pythonに関する不明点があれば森木(Pumble,Mail,Twitter等)までご連絡ください\n",
    "* 勉強会の内容でなくてもOKです（Colabの使い方や環境構築なども）\n",
    "---"
   ]
  },
  {
   "attachments": {},
   "cell_type": "markdown",
   "metadata": {},
   "source": [
    "## ■ データの結合"
   ]
  },
  {
   "attachments": {},
   "cell_type": "markdown",
   "metadata": {},
   "source": [
    "### DataFrameの結合: concat(), merge(), join()\n",
    "\n",
    "Pythonのpandasライブラリには、DataFrame間で操作を行うための `join()`, `merge()`, `concat()` の3つのメソッドがあります。\n",
    "\n",
    "#### `merge()`\n",
    "\n",
    "`merge()`関数はSQLスタイルの結合を行います。この関数は、特定の列（または複数列）をキーとして2つのDataFrameを結合します。\n",
    "\n",
    "デフォルトでは、指定したキーに基づく内部結合（INNER JOIN）が行われますが、`how`引数を指定することでLEFT、RIGHT、OUTER JOINを行うことも可能です。\n",
    "\n",
    "\n",
    "#### `concat()`\n",
    "\n",
    "`concat()`は、主にDataFrameやSeriesを軸に沿って連結するための関数です。連結はデフォルトで行（index）に対して行われますが、列（columns）に対して行うことも可能です。\n",
    "\n",
    "同時に、新たなインデックスや階層的インデックスを作成することも可能です。\n",
    "\n",
    "\n",
    "#### `join()`\n",
    "\n",
    "`join()`は、一つのDataFrameを他のDataFrameのインデックスに合わせて結合するための関数です。`merge()`とは異なり、主にインデックスに基づいた操作が行われます。\n",
    "\n",
    "ただし、`merge()`のように列に基づいた結合も可能です。\n",
    "\n",
    "これらの関数を使うときは、どのような結合が必要かにより、適切な関数を選択することが重要です。"
   ]
  },
  {
   "attachments": {},
   "cell_type": "markdown",
   "metadata": {},
   "source": [
    "---"
   ]
  },
  {
   "attachments": {},
   "cell_type": "markdown",
   "metadata": {},
   "source": [
    "#### 1. merge()\n",
    "\n",
    "`merge()` 関数は、一つ以上のキーを基にDataFrameを結合します。SQLのJOIN操作と類似しています。\n",
    "\n",
    "**参考URL**：\n",
    "https://towardsdatascience.com/how-to-merge-pandas-dataframes-35afe8b1497c"
   ]
  },
  {
   "cell_type": "code",
   "execution_count": null,
   "metadata": {},
   "outputs": [],
   "source": [
    "import pandas as pd\n",
    "\n",
    "data1 = {\n",
    "    '個人番号': [24561, 78943, 98276, 13456, 68745, 23689, 87654, 45123, 34902, 50389],\n",
    "    '個人名': ['田中', '佐藤', '鈴木', '高橋', '伊藤', '山田', '中村', '小林', '加藤', '吉田'],\n",
    "    '所属大学': ['東京大学', '京都大学', '早稲田大学', '一橋大学', '慶應義塾大学', '名古屋大学', '北海道大学', '神戸大学', '大阪大学', '九州大学'],\n",
    "    '年齢': [28, 24, 26, 30, 27, 29, 25, 31, 23, 28],\n",
    "    '科研費獲得額': [1000000, 500000, 300000, 800000, 600000, 400000, 700000, 200000, 900000, 350000]\n",
    "}\n",
    "\n",
    "df_personal = pd.DataFrame(data1)\n",
    "\n",
    "data2 = {\n",
    "    '個人番号': [24561, 13456, 23689, 45123, 50389,99999],\n",
    "    '研究エフォート率': [0.85, 0.92, 0.78, 0.75, 0.81,0.99],\n",
    "    '職階': ['准教授', '助教授', '教授', '講師', '助手','教授']\n",
    "}\n",
    "\n",
    "df_research = pd.DataFrame(data2)"
   ]
  },
  {
   "cell_type": "code",
   "execution_count": null,
   "metadata": {},
   "outputs": [],
   "source": [
    "df_personal"
   ]
  },
  {
   "cell_type": "code",
   "execution_count": null,
   "metadata": {},
   "outputs": [],
   "source": [
    "df_research"
   ]
  },
  {
   "attachments": {},
   "cell_type": "markdown",
   "metadata": {},
   "source": [
    "以降、二つのデータフレーム`df_personal`と`df_research`を使用します。\n",
    "\n",
    "それぞれのキーは「個人番号」です。"
   ]
  },
  {
   "attachments": {},
   "cell_type": "markdown",
   "metadata": {},
   "source": [
    "#### 1. merge()\n",
    "\n",
    "`merge()` 関数は、一つ以上のキーを基にDataFrameを結合します。SQLのJOIN操作と類似しています。\n",
    "\n",
    "https://towardsdatascience.com/how-to-merge-pandas-dataframes-35afe8b1497c"
   ]
  },
  {
   "attachments": {},
   "cell_type": "markdown",
   "metadata": {},
   "source": [
    "![pandas merge](./Howtomerge.webp)"
   ]
  },
  {
   "attachments": {},
   "cell_type": "markdown",
   "metadata": {},
   "source": [
    "内部結合"
   ]
  },
  {
   "cell_type": "code",
   "execution_count": null,
   "metadata": {},
   "outputs": [],
   "source": [
    "df_inner = pd.merge(df_personal, df_research, on='個人番号', how='inner')\n",
    "df_inner"
   ]
  },
  {
   "attachments": {},
   "cell_type": "markdown",
   "metadata": {},
   "source": [
    "左結合"
   ]
  },
  {
   "cell_type": "code",
   "execution_count": null,
   "metadata": {},
   "outputs": [],
   "source": [
    "df_left = pd.merge(df_personal, df_research, on='個人番号', how='left')\n",
    "df_left"
   ]
  },
  {
   "attachments": {},
   "cell_type": "markdown",
   "metadata": {},
   "source": [
    "右結合"
   ]
  },
  {
   "cell_type": "code",
   "execution_count": null,
   "metadata": {},
   "outputs": [],
   "source": [
    "df_right = pd.merge(df_personal, df_research, on='個人番号', how='right')\n",
    "df_right"
   ]
  },
  {
   "attachments": {},
   "cell_type": "markdown",
   "metadata": {},
   "source": [
    "外部結合"
   ]
  },
  {
   "cell_type": "code",
   "execution_count": null,
   "metadata": {},
   "outputs": [],
   "source": [
    "df_outer = pd.merge(df_personal, df_research, on='個人番号', how='outer')\n",
    "df_outer"
   ]
  },
  {
   "attachments": {},
   "cell_type": "markdown",
   "metadata": {},
   "source": [
    "**キーとなる列名がデータフレーム間で異なる場合：**"
   ]
  },
  {
   "cell_type": "code",
   "execution_count": null,
   "metadata": {},
   "outputs": [],
   "source": [
    "import pandas as pd\n",
    "\n",
    "# 個人番号\n",
    "data1 = {\n",
    "    '個人番号': [24561, 78943, 98276, 13456, 68745, 23689, 87654, 45123, 34902, 50389],\n",
    "    '個人名': ['田中', '佐藤', '鈴木', '高橋', '伊藤', '山田', '中村', '小林', '加藤', '吉田'],\n",
    "    '所属大学': ['東京大学', '京都大学', '早稲田大学', '一橋大学', '慶應義塾大学', '名古屋大学', '北海道大学', '神戸大学', '大阪大学', '九州大学'],\n",
    "    '年齢': [28, 24, 26, 30, 27, 29, 25, 31, 23, 28],\n",
    "    '科研費獲得額': [1000000, 500000, 300000, 800000, 600000, 400000, 700000, 200000, 900000, 350000]\n",
    "}\n",
    "\n",
    "df_personal_2 = pd.DataFrame(data1)\n",
    "\n",
    "# パーソナル番号\n",
    "data2 = {\n",
    "    'パーソナル番号': [24561, 13456, 23689, 45123, 50389,99999],\n",
    "    '研究エフォート率': [0.85, 0.92, 0.78, 0.75, 0.81,0.99],\n",
    "    '職階': ['准教授', '助教授', '教授', '講師', '助手','教授']\n",
    "}\n",
    "\n",
    "df_research_2 = pd.DataFrame(data2)"
   ]
  },
  {
   "attachments": {},
   "cell_type": "markdown",
   "metadata": {},
   "source": [
    "従来の`on='個人番号'`ではKeyErrorが出力されます。"
   ]
  },
  {
   "cell_type": "code",
   "execution_count": null,
   "metadata": {},
   "outputs": [],
   "source": [
    "# エラーが出るはず\n",
    "df_inner_2 = pd.merge(df_personal_2, df_research_2, on='個人番号', how='inner')\n",
    "df_inner_2"
   ]
  },
  {
   "attachments": {},
   "cell_type": "markdown",
   "metadata": {},
   "source": [
    "この場合、`on='個人番号'`の代わりに`left_on='個人番号',right_on='パーソナル番号'`を使用する必要があります。"
   ]
  },
  {
   "cell_type": "code",
   "execution_count": null,
   "metadata": {},
   "outputs": [],
   "source": [
    "df_inner_2 = pd.merge(df_personal_2, df_research_2, left_on='個人番号',right_on='パーソナル番号',how='inner')\n",
    "df_inner_2"
   ]
  },
  {
   "attachments": {},
   "cell_type": "markdown",
   "metadata": {},
   "source": [
    "**merge()後に各行の内訳を確認したい場合：**\n",
    "\n",
    "\n",
    "`indicator=True`で内訳を確認できます。新たに作成される`_merge`列を参照ください。"
   ]
  },
  {
   "cell_type": "code",
   "execution_count": null,
   "metadata": {},
   "outputs": [],
   "source": [
    "df_inner_2 = pd.merge(df_personal_2, df_research_2, left_on='個人番号',right_on='パーソナル番号',how='outer',indicator=True)\n",
    "df_inner_2"
   ]
  },
  {
   "attachments": {},
   "cell_type": "markdown",
   "metadata": {},
   "source": [
    "#### 1. concat()\n",
    "`concat()` 関数は、DataFrameを特定の軸に沿って結合します。デフォルトでは、DataFrameは縦（軸=0）に結合されます。\n",
    "\n",
    "一般的に、concat()は形状が同一（つまり、列名が同一）のDataFrameやSeriesを結合する際に利用されます。"
   ]
  },
  {
   "cell_type": "code",
   "execution_count": null,
   "metadata": {},
   "outputs": [],
   "source": [
    "df_concat = pd.concat([df_personal, df_research])\n",
    "df_concat"
   ]
  },
  {
   "attachments": {},
   "cell_type": "markdown",
   "metadata": {},
   "source": [
    "軸を1に設定すると、DataFrameは横に結合されます。\n",
    "\n",
    "しかし、共通の列が重複してしまうことに注意が必要です。"
   ]
  },
  {
   "cell_type": "code",
   "execution_count": null,
   "metadata": {},
   "outputs": [],
   "source": [
    "df_concat_column = pd.concat([df_personal, df_research], axis=1)\n",
    "df_concat_column"
   ]
  },
  {
   "attachments": {},
   "cell_type": "markdown",
   "metadata": {},
   "source": [
    "複数あるSeries(列)のconcatも可能です。"
   ]
  },
  {
   "cell_type": "code",
   "execution_count": null,
   "metadata": {},
   "outputs": [],
   "source": [
    "# 縦にconcat\n",
    "pd.concat([df_personal['所属大学'], df_research['職階'],df_research_2['パーソナル番号']])"
   ]
  },
  {
   "cell_type": "code",
   "execution_count": null,
   "metadata": {},
   "outputs": [],
   "source": [
    "# 横に結合\n",
    "pd.concat([df_personal['所属大学'], df_research['職階'],df_research_2['パーソナル番号']], axis=1)"
   ]
  },
  {
   "attachments": {},
   "cell_type": "markdown",
   "metadata": {},
   "source": [
    "#### 3. join()\n",
    "\n",
    "`join()` 関数もDataFrameの結合に使用されますが、キーとしてインデックスを使用します。結合方法は `merge()` 関数と同じく `how` パラメータを使用して制御できます。\n"
   ]
  },
  {
   "attachments": {},
   "cell_type": "markdown",
   "metadata": {},
   "source": [
    "**インデックスの設定**\n",
    "\n",
    "`個人番号`をインデックスに設定します。これは、`join()`がデフォルトでインデックスを基に結合を行うからです。"
   ]
  },
  {
   "cell_type": "code",
   "execution_count": null,
   "metadata": {},
   "outputs": [],
   "source": [
    "df_personal_join = df_personal.set_index('個人番号')\n",
    "df_research_join = df_research.set_index('個人番号')"
   ]
  },
  {
   "cell_type": "code",
   "execution_count": null,
   "metadata": {},
   "outputs": [],
   "source": [
    "df_personal_join"
   ]
  },
  {
   "cell_type": "code",
   "execution_count": null,
   "metadata": {},
   "outputs": [],
   "source": [
    "df_research_join"
   ]
  },
  {
   "attachments": {},
   "cell_type": "markdown",
   "metadata": {},
   "source": [
    "**データフレームの結合**\n",
    "\n",
    "最後に、`join()`を使って2つのデータフレームを結合します。\n",
    "\n",
    "ここでは、`how='left'`を指定して左結合を行っています。\n",
    "\n",
    "これは、`df_personal`の全ての行を保持し、それに対応する`df_research`の行が存在する場合にその情報を結合するためです。\n",
    "\n",
    "対応する行が`df_research`に存在しない場合、結合後の対応する列はNaN（値が存在しない）になります。\n",
    "\n",
    "結合が完了したら、`df`には`df_personal`と`df_research`の両方の情報が含まれます。"
   ]
  },
  {
   "cell_type": "code",
   "execution_count": null,
   "metadata": {},
   "outputs": [],
   "source": [
    "df_join = df_personal_join.join(df_research_join, how='left')\n",
    "df_join"
   ]
  },
  {
   "attachments": {},
   "cell_type": "markdown",
   "metadata": {},
   "source": [
    "## ■ データの出力"
   ]
  },
  {
   "attachments": {},
   "cell_type": "markdown",
   "metadata": {},
   "source": [
    "### データのCSV出力\n",
    "\n",
    "前処理が終了したデータは、将来的な使用のためにCSVファイルとして保存することが一般的です。\n",
    "\n",
    "以下のコードは、前述のフィルタリングされたデータをCSVファイルとして出力します。\n"
   ]
  },
  {
   "cell_type": "code",
   "execution_count": null,
   "metadata": {},
   "outputs": [],
   "source": [
    "df_output = df_personal_join.join(df_research_join, how='inner')\n",
    "df_output = df_output[df_output['科研費獲得額'] > 500_000] # 500000以上のみ抽出\n",
    "df_output"
   ]
  },
  {
   "cell_type": "code",
   "execution_count": null,
   "metadata": {},
   "outputs": [],
   "source": [
    "# データをCSVファイルとして出力します\n",
    "df_output.to_csv('output_data.csv', index=False)"
   ]
  },
  {
   "attachments": {},
   "cell_type": "markdown",
   "metadata": {},
   "source": [
    "## ■ オマケ：パイプラインについて"
   ]
  },
  {
   "cell_type": "code",
   "execution_count": null,
   "metadata": {},
   "outputs": [],
   "source": [
    "## ファイルの取得\n",
    "!wget -P . https://raw.githubusercontent.com/gmoriki/C4RA-Python-Tutorials/master/0609/kaken.nii.ac.jp_2023-06-07_10-57-32.csv"
   ]
  },
  {
   "cell_type": "code",
   "execution_count": null,
   "metadata": {},
   "outputs": [],
   "source": [
    "df_kaken = pd.read_csv('./kaken.nii.ac.jp_2023-06-07_10-57-32.csv')"
   ]
  },
  {
   "cell_type": "code",
   "execution_count": null,
   "metadata": {},
   "outputs": [],
   "source": [
    "# copy\n",
    "df_kaken_1 = df_kaken.copy()\n",
    "# こうやって書くと大変\n",
    "\n",
    "# 欠損値を削除\n",
    "df_kaken_1 = df_kaken_1.dropna(axis=1, how='any')\n",
    "\n",
    "# 必要な列だけを選択\n",
    "df_kaken_1 = df_kaken_1[['研究課題名','研究種目','総配分額']]\n",
    "\n",
    "# 条件に合う行を選択\n",
    "mask = (df_kaken_1['総配分額'] > df_kaken_1['総配分額'].mode().values[0]) & (df_kaken_1['研究種目'].str.contains('C'))\n",
    "df_kaken_1 = df_kaken_1[mask]\n",
    "\n",
    "# '総配分額'でソート\n",
    "df_kaken_1 = df_kaken_1.sort_values(by='総配分額')\n",
    "\n",
    "# インデックスをリセット\n",
    "df_kaken_1 = df_kaken_1.reset_index(drop=True)\n",
    "df_kaken_1"
   ]
  },
  {
   "cell_type": "code",
   "execution_count": null,
   "metadata": {},
   "outputs": [],
   "source": [
    "# copy\n",
    "df_kaken_2 = df_kaken.copy()\n",
    "# 複数の処理を続けて書くことができます(パイプライン)\n",
    "df_kaken_2 = df_kaken_2.dropna(axis=1, how='any')[['研究課題名','研究種目','総配分額']][(df_kaken_2['総配分額'] > df_kaken_2['総配分額'].mode().values[0]) & (df_kaken_2['研究種目'].str.contains('C'))].sort_values(by='総配分額').reset_index(drop=True)\n",
    "df_kaken_2"
   ]
  },
  {
   "cell_type": "code",
   "execution_count": null,
   "metadata": {},
   "outputs": [],
   "source": [
    "# copy\n",
    "df_kaken_3 = df_kaken.copy()\n",
    "\n",
    "# 見やすい例1\n",
    "df_kaken_3 = (df_kaken_3.dropna(axis=1, how='any') \\\n",
    "            [['研究課題名','研究種目','総配分額']] \\\n",
    "            [(df_kaken_3['総配分額'] > df_kaken_3['総配分額'].mode().values[0]) & (df_kaken_3['研究種目'].str.contains('C'))] \\\n",
    "            .sort_values(by='総配分額') \\\n",
    "            .reset_index(drop=True)\n",
    "            ) \n",
    "df_kaken_3"
   ]
  },
  {
   "cell_type": "code",
   "execution_count": null,
   "metadata": {},
   "outputs": [],
   "source": [
    "# copy\n",
    "df_kaken_4 = df_kaken.copy()\n",
    "\n",
    "# 見やすい例2\n",
    "def drop_na_cols(df):\n",
    "    return df.dropna(axis=1, how='any')\n",
    "\n",
    "def filter_rows(df):\n",
    "    return df[(df['総配分額'] > df['総配分額'].mode()[0]) & (df['研究種目'].str.contains('C'))]\n",
    "\n",
    "def select_columns(df):\n",
    "    return df[['研究課題名','研究種目','総配分額']]\n",
    "\n",
    "def sort_values(df):\n",
    "    return df.sort_values(by='総配分額')\n",
    "\n",
    "def reset_idx(df):\n",
    "    return df.reset_index(drop=True)\n",
    "\n",
    "df_kaken_4 = (df_kaken_4\n",
    "            .pipe(drop_na_cols)\n",
    "            .pipe(filter_rows)\n",
    "            .pipe(select_columns)\n",
    "            .pipe(sort_values)\n",
    "            .pipe(reset_idx)\n",
    "           )\n",
    "df_kaken_4"
   ]
  },
  {
   "cell_type": "code",
   "execution_count": null,
   "metadata": {},
   "outputs": [],
   "source": [
    "# copy\n",
    "df_kaken_5 = df_kaken.copy()\n",
    "\n",
    "# 見やすい例3\n",
    "def process_dataframe(df):\n",
    "    df = df.dropna(axis=1, how='any')\n",
    "    df = df[(df['総配分額'] > df['総配分額'].mode()[0]) & (df['研究種目'].str.contains('C'))]\n",
    "    df = df[['研究課題名','研究種目','総配分額']]\n",
    "    df = df.sort_values(by='総配分額')\n",
    "    df = df.reset_index(drop=True)\n",
    "    return df\n",
    "\n",
    "df_kaken_5 = df_kaken_5.pipe(process_dataframe)\n",
    "df_kaken_5"
   ]
  }
 ],
 "metadata": {
  "kernelspec": {
   "display_name": "Python 3",
   "language": "python",
   "name": "python3"
  },
  "language_info": {
   "codemirror_mode": {
    "name": "ipython",
    "version": 3
   },
   "file_extension": ".py",
   "mimetype": "text/x-python",
   "name": "python",
   "nbconvert_exporter": "python",
   "pygments_lexer": "ipython3",
   "version": "3.10.1"
  },
  "orig_nbformat": 4
 },
 "nbformat": 4,
 "nbformat_minor": 2
}
