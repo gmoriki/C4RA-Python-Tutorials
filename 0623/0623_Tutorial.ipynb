{
 "cells": [
  {
   "attachments": {},
   "cell_type": "markdown",
   "metadata": {},
   "source": [
    "<a href=\"https://colab.research.google.com/github/gmoriki/C4RA-Python-Tutorials/blob/main/0623/0623_Tutorial.ipynb\" target=\"_parent\"><img src=\"https://colab.research.google.com/assets/colab-badge.svg\" alt=\"Open In Colab\"/></a>"
   ]
  },
  {
   "attachments": {},
   "cell_type": "markdown",
   "metadata": {},
   "source": [
    "# 第7回C4RA勉強会\n",
    "## DataFrameのデータ結合・マージ\n",
    "\n",
    "---"
   ]
  },
  {
   "attachments": {},
   "cell_type": "markdown",
   "metadata": {},
   "source": [
    "## ★ 勉強会の基本方針"
   ]
  },
  {
   "attachments": {},
   "cell_type": "markdown",
   "metadata": {},
   "source": [
    "* 5月12日(金)から6月30日(金)までの計8回を予定しています。\n",
    "* 目標は**pandas.DataFrame形式の基本的な操作をマスターすること**です。"
   ]
  },
  {
   "attachments": {},
   "cell_type": "markdown",
   "metadata": {},
   "source": [
    "* 環境はGoogle Colaboratory(通称Colab)を使用します。Googleアカウントをご用意ください。\n",
    "  * 各々のローカル環境でも実行可能です。\n",
    "* 一部、東京大学「Pythonプログラミング入門」の教材を共有しながら勉強会を進めます。\n",
    "  * 勉強会では**東大教材**と呼びます\n",
    "  * URL：https://utokyo-ipp.github.io/index.html"
   ]
  },
  {
   "attachments": {},
   "cell_type": "markdown",
   "metadata": {},
   "source": [
    "* Colab（Jupyter Notebook）の詳しい使い方について、勉強会の中で深入りはしません\n",
    "  * Colab立ち上げのURL：https://colab.research.google.com/\n",
    "  * 便利なショートカット：https://blog.kikagaku.co.jp/google-colaboratory-shortcut"
   ]
  },
  {
   "attachments": {},
   "cell_type": "markdown",
   "metadata": {},
   "source": [
    "* Pythonに関する不明点があれば森木(Pumble,Mail,Twitter等)までご連絡ください\n",
    "* 勉強会の内容でなくてもOKです（Colabの使い方や環境構築なども）\n",
    "---"
   ]
  },
  {
   "attachments": {},
   "cell_type": "markdown",
   "metadata": {},
   "source": [
    "## ■ データの結合"
   ]
  },
  {
   "attachments": {},
   "cell_type": "markdown",
   "metadata": {},
   "source": [
    "### DataFrameの結合: concat(), merge(), join()\n",
    "\n",
    "Pythonのpandasライブラリには、DataFrame間で操作を行うための `join()`, `merge()`, `concat()` の3つのメソッドがあります。\n",
    "\n",
    "それぞれについて詳しく見ていきましょう。"
   ]
  },
  {
   "cell_type": "code",
   "execution_count": null,
   "metadata": {},
   "outputs": [],
   "source": [
    "import pandas as pd\n",
    "\n",
    "df1 = pd.DataFrame({\n",
    "    'A': ['A0', 'A1', 'A2', 'A3'],\n",
    "    'B': ['B0', 'B1', 'B2', 'B3'],\n",
    "    'key': ['K0', 'K1', 'K2', 'K3']\n",
    "})\n",
    "\n",
    "df2 = pd.DataFrame({\n",
    "    'C': ['C0', 'C1', 'C2', 'C3'],\n",
    "    'D': ['D0', 'D1', 'D2', 'D3'],\n",
    "    'key': ['K0', 'K1', 'K2', 'K3']\n",
    "})\n"
   ]
  },
  {
   "attachments": {},
   "cell_type": "markdown",
   "metadata": {},
   "source": [
    "#### 1. concat()\n",
    "`concat()` 関数は、DataFrameを特定の軸に沿って結合します。デフォルトでは、DataFrameは縦（軸=0）に結合されます。\n",
    "\n",
    "共通の列（この場合は 'key'）が重複してしまいます。"
   ]
  },
  {
   "cell_type": "code",
   "execution_count": null,
   "metadata": {},
   "outputs": [],
   "source": [
    "result = pd.concat([df1, df2])\n",
    "result"
   ]
  },
  {
   "attachments": {},
   "cell_type": "markdown",
   "metadata": {},
   "source": [
    "軸を1に設定すると、DataFrameは横に結合されます。しかし、共通の列が重複してしまうことに注意が必要です。"
   ]
  },
  {
   "cell_type": "code",
   "execution_count": null,
   "metadata": {},
   "outputs": [],
   "source": [
    "result = pd.concat([df1, df2], axis=1)\n",
    "result"
   ]
  },
  {
   "attachments": {},
   "cell_type": "markdown",
   "metadata": {},
   "source": [
    "#### 2. merge()\n",
    "\n",
    "`merge()` 関数は、一つ以上のキーを基にDataFrameを結合します。SQLのJOIN操作と類似しています。"
   ]
  },
  {
   "cell_type": "code",
   "execution_count": null,
   "metadata": {},
   "outputs": [],
   "source": [
    "# 左結合\n",
    "result = pd.merge(df1, df2, on='key', how='left')\n",
    "print(result)\n",
    "\n",
    "# 右結合\n",
    "result = pd.merge(df1, df2, on='key', how='right')\n",
    "print(result)\n",
    "\n",
    "# 内部結合\n",
    "result = pd.merge(df1, df2, on='key', how='inner')\n",
    "print(result)\n",
    "\n",
    "# 外部結合\n",
    "result = pd.merge(df1, df2, on='key', how='outer')\n",
    "print(result)"
   ]
  },
  {
   "attachments": {},
   "cell_type": "markdown",
   "metadata": {},
   "source": [
    "#### 3. join()\n",
    "\n",
    "`join()` 関数もDataFrameの結合に使用されますが、キーとしてインデックスを使用します。結合方法は `merge()` 関数と同じく `how` パラメータを使用して制御できます。\n"
   ]
  },
  {
   "cell_type": "code",
   "execution_count": null,
   "metadata": {},
   "outputs": [],
   "source": [
    "# df1, df2を新たに作成します。今度はインデックスを利用するために 'key' 列は使いません。\n",
    "df1 = pd.DataFrame({\n",
    "    'A': ['A0', 'A1', 'A2', 'A3'],\n",
    "    'B': ['B0', 'B1', 'B2', 'B3']\n",
    "}, index=['K0', 'K1', 'K2', 'K3'])\n",
    "\n",
    "df2 = pd.DataFrame({\n",
    "    'C': ['C0', 'C1', 'C2', 'C3'],\n",
    "    'D': ['D0', 'D1', 'D2', 'D3']\n",
    "}, index=['K0', 'K1', 'K2', 'K3'])\n",
    "\n",
    "# join操作のデフォルトは左結合です。\n",
    "result = df1.join(df2)\n",
    "result"
   ]
  },
  {
   "attachments": {},
   "cell_type": "markdown",
   "metadata": {},
   "source": [
    "列名が重複している場合、接尾辞を指定して区別することが可能です。"
   ]
  },
  {
   "cell_type": "code",
   "execution_count": null,
   "metadata": {},
   "outputs": [],
   "source": [
    "# df1に新たにC列を追加します。\n",
    "df1['C'] = ['C1', 'C2', 'C3', 'C4']\n",
    "\n",
    "# lsuffix, rsuffixパラメータを用いて列名に接尾辞を付けます。\n",
    "result = df1.join(df2, lsuffix='_df1', rsuffix='_df2')\n",
    "result"
   ]
  },
  {
   "attachments": {},
   "cell_type": "markdown",
   "metadata": {},
   "source": [
    "## ■ データのフィルタリング(前処理の仕上げ)"
   ]
  },
  {
   "attachments": {},
   "cell_type": "markdown",
   "metadata": {},
   "source": [
    "### データのCSV出力\n",
    "\n",
    "前処理が終了したデータは、将来的な使用のためにCSVファイルとして保存することが一般的です。\n",
    "\n",
    "以下のコードは、前述のフィルタリングされたデータをCSVファイルとして出力します。\n"
   ]
  },
  {
   "cell_type": "code",
   "execution_count": null,
   "metadata": {},
   "outputs": [],
   "source": [
    "result"
   ]
  },
  {
   "cell_type": "code",
   "execution_count": null,
   "metadata": {},
   "outputs": [],
   "source": [
    "# データをCSVファイルとして出力します\n",
    "result.to_csv('filtered_data.csv', index=False)"
   ]
  },
  {
   "attachments": {},
   "cell_type": "markdown",
   "metadata": {},
   "source": [
    "## ■ オマケ：パイプラインについて"
   ]
  },
  {
   "cell_type": "code",
   "execution_count": null,
   "metadata": {},
   "outputs": [],
   "source": [
    "df_kaken = pd.read_csv('./kaken.nii.ac.jp_2023-06-07_10-57-32.csv')"
   ]
  },
  {
   "cell_type": "code",
   "execution_count": null,
   "metadata": {},
   "outputs": [],
   "source": [
    "# copy\n",
    "df_kaken_1 = df_kaken.copy()\n",
    "# こうやって書くと大変\n",
    "\n",
    "# 欠損値を削除\n",
    "df_kaken_1 = df_kaken_1.dropna(axis=1, how='any')\n",
    "\n",
    "# 必要な列だけを選択\n",
    "df_kaken_1 = df_kaken_1[['研究課題名','研究種目','総配分額']]\n",
    "\n",
    "# 条件に合う行を選択\n",
    "mask = (df_kaken_1['総配分額'] > df_kaken_1['総配分額'].mode().values[0]) & (df_kaken_1['研究種目'].str.contains('C'))\n",
    "df_kaken_1 = df_kaken_1[mask]\n",
    "\n",
    "# '総配分額'でソート\n",
    "df_kaken_1 = df_kaken_1.sort_values(by='総配分額')\n",
    "\n",
    "# インデックスをリセット\n",
    "df_kaken_1 = df_kaken_1.reset_index(drop=True)\n",
    "df_kaken_1"
   ]
  },
  {
   "cell_type": "code",
   "execution_count": null,
   "metadata": {},
   "outputs": [],
   "source": [
    "# copy\n",
    "df_kaken_2 = df_kaken.copy()\n",
    "# 複数の処理を続けて書くことができます(パイプライン)\n",
    "df_kaken_2 = df_kaken_2.dropna(axis=1, how='any')[['研究課題名','研究種目','総配分額']][(df_kaken_2['総配分額'] > df_kaken_2['総配分額'].mode().values[0]) & (df_kaken_2['研究種目'].str.contains('C'))].sort_values(by='総配分額').reset_index(drop=True)\n",
    "df_kaken_2"
   ]
  },
  {
   "cell_type": "code",
   "execution_count": null,
   "metadata": {},
   "outputs": [],
   "source": [
    "# copy\n",
    "df_kaken_3 = df_kaken.copy()\n",
    "\n",
    "# 見やすい例1\n",
    "df_kaken_3 = (df_kaken_3.dropna(axis=1, how='any') \\\n",
    "            [['研究課題名','研究種目','総配分額']] \\\n",
    "            [(df_kaken_3['総配分額'] > df_kaken_3['総配分額'].mode().values[0]) & (df_kaken_3['研究種目'].str.contains('C'))] \\\n",
    "            .sort_values(by='総配分額') \\\n",
    "            .reset_index(drop=True)\n",
    "            ) \n",
    "df_kaken_3"
   ]
  },
  {
   "cell_type": "code",
   "execution_count": null,
   "metadata": {},
   "outputs": [],
   "source": [
    "# copy\n",
    "df_kaken_4 = df_kaken.copy()\n",
    "\n",
    "# 見やすい例2\n",
    "def drop_na_cols(df):\n",
    "    return df.dropna(axis=1, how='any')\n",
    "\n",
    "def filter_rows(df):\n",
    "    return df[(df['総配分額'] > df['総配分額'].mode()[0]) & (df['研究種目'].str.contains('C'))]\n",
    "\n",
    "def select_columns(df):\n",
    "    return df[['研究課題名','研究種目','総配分額']]\n",
    "\n",
    "def sort_values(df):\n",
    "    return df.sort_values(by='総配分額')\n",
    "\n",
    "def reset_idx(df):\n",
    "    return df.reset_index(drop=True)\n",
    "\n",
    "df_kaken_4 = (df_kaken_4\n",
    "            .pipe(drop_na_cols)\n",
    "            .pipe(filter_rows)\n",
    "            .pipe(select_columns)\n",
    "            .pipe(sort_values)\n",
    "            .pipe(reset_idx)\n",
    "           )\n",
    "df_kaken_4"
   ]
  },
  {
   "cell_type": "code",
   "execution_count": null,
   "metadata": {},
   "outputs": [],
   "source": [
    "# copy\n",
    "df_kaken_5 = df_kaken.copy()\n",
    "\n",
    "# 見やすい例3\n",
    "def process_dataframe(df):\n",
    "    df = df.dropna(axis=1, how='any')\n",
    "    df = df[(df['総配分額'] > df['総配分額'].mode()[0]) & (df['研究種目'].str.contains('C'))]\n",
    "    df = df[['研究課題名','研究種目','総配分額']]\n",
    "    df = df.sort_values(by='総配分額')\n",
    "    df = df.reset_index(drop=True)\n",
    "    return df\n",
    "\n",
    "df_kaken_5 = df_kaken_5.pipe(process_dataframe)\n",
    "df_kaken_5"
   ]
  }
 ],
 "metadata": {
  "kernelspec": {
   "display_name": "Python 3",
   "language": "python",
   "name": "python3"
  },
  "language_info": {
   "codemirror_mode": {
    "name": "ipython",
    "version": 3
   },
   "file_extension": ".py",
   "mimetype": "text/x-python",
   "name": "python",
   "nbconvert_exporter": "python",
   "pygments_lexer": "ipython3",
   "version": "3.10.1"
  },
  "orig_nbformat": 4
 },
 "nbformat": 4,
 "nbformat_minor": 2
}
