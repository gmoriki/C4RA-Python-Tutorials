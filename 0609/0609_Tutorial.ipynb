{
 "cells": [
  {
   "attachments": {},
   "cell_type": "markdown",
   "metadata": {},
   "source": [
    "<a href=\"https://colab.research.google.com/github/gmoriki/C4RA-Python-Tutorials/blob/main/0602/0609_Tutorial.ipynb\" target=\"_parent\"><img src=\"https://colab.research.google.com/assets/colab-badge.svg\" alt=\"Open In Colab\"/></a>"
   ]
  },
  {
   "attachments": {},
   "cell_type": "markdown",
   "metadata": {},
   "source": [
    "# 第5回C4RA勉強会\n",
    "## DataFrameのデータ統計と集計\n",
    "---"
   ]
  },
  {
   "attachments": {},
   "cell_type": "markdown",
   "metadata": {},
   "source": [
    "## ★ 勉強会の基本方針"
   ]
  },
  {
   "attachments": {},
   "cell_type": "markdown",
   "metadata": {},
   "source": [
    "* 5月12日(金)から6月30日(金)までの計8回を予定しています。\n",
    "* 目標は**pandas.DataFrame形式の基本的な操作をマスターすること**です。"
   ]
  },
  {
   "attachments": {},
   "cell_type": "markdown",
   "metadata": {},
   "source": [
    "* 環境はGoogle Colaboratory(通称Colab)を使用します。Googleアカウントをご用意ください。\n",
    "  * 各々のローカル環境でも実行可能です。\n",
    "* 一部、東京大学「Pythonプログラミング入門」の教材を共有しながら勉強会を進めます。\n",
    "  * 勉強会では**東大教材**と呼びます\n",
    "  * URL：https://utokyo-ipp.github.io/index.html"
   ]
  },
  {
   "attachments": {},
   "cell_type": "markdown",
   "metadata": {},
   "source": [
    "* Colab（Jupyter Notebook）の詳しい使い方について、勉強会の中で深入りはしません\n",
    "  * Colab立ち上げのURL：https://colab.research.google.com/\n",
    "  * 便利なショートカット：https://blog.kikagaku.co.jp/google-colaboratory-shortcut"
   ]
  },
  {
   "attachments": {},
   "cell_type": "markdown",
   "metadata": {},
   "source": [
    "* Pythonに関する不明点があれば森木(Pumble,Mail,Twitter等)までご連絡ください\n",
    "* 勉強会の内容でなくてもOKです（Colabの使い方や環境構築なども）\n",
    "---"
   ]
  },
  {
   "attachments": {},
   "cell_type": "markdown",
   "metadata": {},
   "source": [
    "## ■ pandasの概要(前回のおさらい)"
   ]
  },
  {
   "attachments": {},
   "cell_type": "markdown",
   "metadata": {},
   "source": [
    "### pandas（概要）\n",
    "\n",
    "* **データ構造**：DataFrameとSeriesを提供。\n",
    "* **データ操作**：フィルタリング、ソート、集約などの機能。\n",
    "* **入出力**：CSVやExcelなどのファイル形式とのやり取り。\n",
    "* **欠損値処理**：欠損値の検出や補完、削除が可能。"
   ]
  },
  {
   "cell_type": "code",
   "execution_count": 77,
   "metadata": {},
   "outputs": [],
   "source": [
    "import pandas as pd\n",
    "\n",
    "# データフレーム作成\n",
    "data = {'Name': ['Alice', 'Bob', 'Charlie'],\n",
    "        'Age': [25, 30, 35],\n",
    "        'City': ['New York', 'San Francisco', 'Los Angeles']}\n",
    "df = pd.DataFrame(data)\n",
    "\n",
    "# データフレームから年齢が30以上の行を抽出\n",
    "older_than_30 = df[df['Age'] >= 30]\n",
    "\n",
    "# CSVファイルに書き込み\n",
    "df.to_csv(\"sample_data.csv\", index=False)\n",
    "\n",
    "# CSVファイルから読み込み\n",
    "df_from_csv = pd.read_csv(\"sample_data.csv\")"
   ]
  },
  {
   "attachments": {},
   "cell_type": "markdown",
   "metadata": {},
   "source": [
    "#### **東大教材(pandas)**\n",
    "* 7-1. pandasライブラリ\n",
    "  * https://colab.research.google.com/github/utokyo-ipp/utokyo-ipp.github.io/blob/master/colab/7/7-1.ipynb"
   ]
  },
  {
   "attachments": {},
   "cell_type": "markdown",
   "metadata": {},
   "source": [
    "## ■ データの選択\n",
    "\n",
    "DataFrameから特定のデータを選択する方法について学びましょう。"
   ]
  },
  {
   "cell_type": "code",
   "execution_count": 79,
   "metadata": {},
   "outputs": [
    {
     "data": {
      "text/html": [
       "<div>\n",
       "<style scoped>\n",
       "    .dataframe tbody tr th:only-of-type {\n",
       "        vertical-align: middle;\n",
       "    }\n",
       "\n",
       "    .dataframe tbody tr th {\n",
       "        vertical-align: top;\n",
       "    }\n",
       "\n",
       "    .dataframe thead th {\n",
       "        text-align: right;\n",
       "    }\n",
       "</style>\n",
       "<table border=\"1\" class=\"dataframe\">\n",
       "  <thead>\n",
       "    <tr style=\"text-align: right;\">\n",
       "      <th></th>\n",
       "      <th>Name</th>\n",
       "      <th>Age</th>\n",
       "      <th>City</th>\n",
       "    </tr>\n",
       "  </thead>\n",
       "  <tbody>\n",
       "    <tr>\n",
       "      <th>0</th>\n",
       "      <td>Alice</td>\n",
       "      <td>25</td>\n",
       "      <td>New York</td>\n",
       "    </tr>\n",
       "    <tr>\n",
       "      <th>1</th>\n",
       "      <td>Bob</td>\n",
       "      <td>30</td>\n",
       "      <td>San Francisco</td>\n",
       "    </tr>\n",
       "    <tr>\n",
       "      <th>2</th>\n",
       "      <td>Charlie</td>\n",
       "      <td>35</td>\n",
       "      <td>Los Angeles</td>\n",
       "    </tr>\n",
       "  </tbody>\n",
       "</table>\n",
       "</div>"
      ],
      "text/plain": [
       "      Name  Age           City\n",
       "0    Alice   25       New York\n",
       "1      Bob   30  San Francisco\n",
       "2  Charlie   35    Los Angeles"
      ]
     },
     "execution_count": 79,
     "metadata": {},
     "output_type": "execute_result"
    }
   ],
   "source": [
    "df"
   ]
  },
  {
   "attachments": {},
   "cell_type": "markdown",
   "metadata": {},
   "source": [
    "データフレームからデータを選択する基本的な方法は2つあります。一つは列を選択する方法、もう一つは行を選択する方法です。\n",
    "\n",
    "列を選択するには、列の名前をブラケット(`[]`)と一緒に使用します。例えば、`df['Name']`とすると、'Name'という名前の列が選択されます。"
   ]
  },
  {
   "cell_type": "code",
   "execution_count": 78,
   "metadata": {},
   "outputs": [
    {
     "data": {
      "text/plain": [
       "0      Alice\n",
       "1        Bob\n",
       "2    Charlie\n",
       "Name: Name, dtype: object"
      ]
     },
     "execution_count": 78,
     "metadata": {},
     "output_type": "execute_result"
    }
   ],
   "source": [
    "# 列の選択\n",
    "df['Name']"
   ]
  },
  {
   "attachments": {},
   "cell_type": "markdown",
   "metadata": {},
   "source": [
    "複数の列を選択するには、列の名前をリストとしてブラケット内に渡します。例えば、`df[['Name', 'Age']]`とすると、'Name'と'Age'の2つの列が選択されます。"
   ]
  },
  {
   "cell_type": "code",
   "execution_count": null,
   "metadata": {},
   "outputs": [
    {
     "data": {
      "text/html": [
       "<div>\n",
       "<style scoped>\n",
       "    .dataframe tbody tr th:only-of-type {\n",
       "        vertical-align: middle;\n",
       "    }\n",
       "\n",
       "    .dataframe tbody tr th {\n",
       "        vertical-align: top;\n",
       "    }\n",
       "\n",
       "    .dataframe thead th {\n",
       "        text-align: right;\n",
       "    }\n",
       "</style>\n",
       "<table border=\"1\" class=\"dataframe\">\n",
       "  <thead>\n",
       "    <tr style=\"text-align: right;\">\n",
       "      <th></th>\n",
       "      <th>Name</th>\n",
       "      <th>Age</th>\n",
       "    </tr>\n",
       "  </thead>\n",
       "  <tbody>\n",
       "    <tr>\n",
       "      <th>0</th>\n",
       "      <td>John</td>\n",
       "      <td>28</td>\n",
       "    </tr>\n",
       "    <tr>\n",
       "      <th>1</th>\n",
       "      <td>Anna</td>\n",
       "      <td>24</td>\n",
       "    </tr>\n",
       "    <tr>\n",
       "      <th>2</th>\n",
       "      <td>Peter</td>\n",
       "      <td>35</td>\n",
       "    </tr>\n",
       "    <tr>\n",
       "      <th>3</th>\n",
       "      <td>Linda</td>\n",
       "      <td>32</td>\n",
       "    </tr>\n",
       "  </tbody>\n",
       "</table>\n",
       "</div>"
      ],
      "text/plain": [
       "    Name  Age\n",
       "0   John   28\n",
       "1   Anna   24\n",
       "2  Peter   35\n",
       "3  Linda   32"
      ]
     },
     "metadata": {},
     "output_type": "display_data"
    }
   ],
   "source": [
    "# 複数列の選択\n",
    "df[['Name', 'Age']]"
   ]
  },
  {
   "attachments": {},
   "cell_type": "markdown",
   "metadata": {},
   "source": [
    "行を選択するには、`loc`プロパティを使用します。`loc`プロパティは、ラベルベースのインデクサで、ラベル名を指定して行を選択します。例えば、`df.loc[1]`とすると、ラベルが1の行が選択されます。"
   ]
  },
  {
   "cell_type": "code",
   "execution_count": 85,
   "metadata": {},
   "outputs": [
    {
     "data": {
      "text/plain": [
       "Name              Bob\n",
       "Age                30\n",
       "City    San Francisco\n",
       "Name: 1, dtype: object"
      ]
     },
     "execution_count": 85,
     "metadata": {},
     "output_type": "execute_result"
    }
   ],
   "source": [
    "# 行の選択\n",
    "df.loc[1]"
   ]
  },
  {
   "attachments": {},
   "cell_type": "markdown",
   "metadata": {},
   "source": [
    "## データの抽出\n",
    "\n",
    "特定の条件を満たすデータを抽出する方法について学びましょう。"
   ]
  },
  {
   "attachments": {},
   "cell_type": "markdown",
   "metadata": {},
   "source": [
    "特定の条件を満たすデータを抽出するには、ブールインデックスを使用します。ブールインデックスとは、各行が条件を満たすか満たさないかをTrueまたはFalseで示したものです。\n",
    "\n",
    "例えば、'Age'が30以上のデータを抽出するには、`df['Age'] >= 30`という条件をデータフレームに適用します。この条件は、各行の'Age'が30以上であればTrue、そうでなければFalseというブールインデックスを作成します。そして、このブールインデックスをデータフレームに適用することで、条件を満たす行だけが選択されます。"
   ]
  },
  {
   "cell_type": "code",
   "execution_count": null,
   "metadata": {},
   "outputs": [
    {
     "data": {
      "text/html": [
       "<div>\n",
       "<style scoped>\n",
       "    .dataframe tbody tr th:only-of-type {\n",
       "        vertical-align: middle;\n",
       "    }\n",
       "\n",
       "    .dataframe tbody tr th {\n",
       "        vertical-align: top;\n",
       "    }\n",
       "\n",
       "    .dataframe thead th {\n",
       "        text-align: right;\n",
       "    }\n",
       "</style>\n",
       "<table border=\"1\" class=\"dataframe\">\n",
       "  <thead>\n",
       "    <tr style=\"text-align: right;\">\n",
       "      <th></th>\n",
       "      <th>Name</th>\n",
       "      <th>Age</th>\n",
       "      <th>City</th>\n",
       "    </tr>\n",
       "  </thead>\n",
       "  <tbody>\n",
       "    <tr>\n",
       "      <th>2</th>\n",
       "      <td>Peter</td>\n",
       "      <td>35</td>\n",
       "      <td>Berlin</td>\n",
       "    </tr>\n",
       "    <tr>\n",
       "      <th>3</th>\n",
       "      <td>Linda</td>\n",
       "      <td>32</td>\n",
       "      <td>London</td>\n",
       "    </tr>\n",
       "  </tbody>\n",
       "</table>\n",
       "</div>"
      ],
      "text/plain": [
       "    Name  Age    City\n",
       "2  Peter   35  Berlin\n",
       "3  Linda   32  London"
      ]
     },
     "metadata": {},
     "output_type": "display_data"
    }
   ],
   "source": [
    "# Ageが30以上のデータを抽出\n",
    "df[df['Age'] >= 30]"
   ]
  },
  {
   "cell_type": "code",
   "execution_count": null,
   "metadata": {},
   "outputs": [
    {
     "data": {
      "text/html": [
       "<div>\n",
       "<style scoped>\n",
       "    .dataframe tbody tr th:only-of-type {\n",
       "        vertical-align: middle;\n",
       "    }\n",
       "\n",
       "    .dataframe tbody tr th {\n",
       "        vertical-align: top;\n",
       "    }\n",
       "\n",
       "    .dataframe thead th {\n",
       "        text-align: right;\n",
       "    }\n",
       "</style>\n",
       "<table border=\"1\" class=\"dataframe\">\n",
       "  <thead>\n",
       "    <tr style=\"text-align: right;\">\n",
       "      <th></th>\n",
       "      <th>Name</th>\n",
       "      <th>Age</th>\n",
       "      <th>City</th>\n",
       "    </tr>\n",
       "  </thead>\n",
       "  <tbody>\n",
       "    <tr>\n",
       "      <th>1</th>\n",
       "      <td>Anna</td>\n",
       "      <td>24</td>\n",
       "      <td>Paris</td>\n",
       "    </tr>\n",
       "    <tr>\n",
       "      <th>3</th>\n",
       "      <td>Linda</td>\n",
       "      <td>32</td>\n",
       "      <td>London</td>\n",
       "    </tr>\n",
       "  </tbody>\n",
       "</table>\n",
       "</div>"
      ],
      "text/plain": [
       "    Name  Age    City\n",
       "1   Anna   24   Paris\n",
       "3  Linda   32  London"
      ]
     },
     "metadata": {},
     "output_type": "display_data"
    }
   ],
   "source": [
    "# 複数行の選択\n",
    "df.loc[[1, 3]]"
   ]
  },
  {
   "attachments": {},
   "cell_type": "markdown",
   "metadata": {},
   "source": [
    "## データの整形\n",
    "\n",
    "データを整形するための基本的な操作について学びましょう。"
   ]
  },
  {
   "attachments": {},
   "cell_type": "markdown",
   "metadata": {},
   "source": [
    "データフレームのデータを整形するための基本的な操作には、新しい列の追加や既存の列の削除などがあります。\n",
    "\n",
    "新しい列を追加するには、新しい列名とデータをデータフレームに直接代入します。例えば、`df['Profession'] = ['Engineer', 'Doctor', 'Artist', 'Scientist']`とすると、'Profession'という新しい列が追加され、指定したデータがその列に設定されます。\n",
    "\n",
    "列を削除するには、`drop`メソッドを使用します。`drop`メソッドには、削除する列の名前と、axisパラメータを指定します。axisパラメータに1を指定すると、列の削除を意味します。例えば、`df = df.drop('Age', axis=1)`とすると、'Age'という列が削除されます。"
   ]
  },
  {
   "cell_type": "code",
   "execution_count": null,
   "metadata": {},
   "outputs": [
    {
     "data": {
      "text/html": [
       "<div>\n",
       "<style scoped>\n",
       "    .dataframe tbody tr th:only-of-type {\n",
       "        vertical-align: middle;\n",
       "    }\n",
       "\n",
       "    .dataframe tbody tr th {\n",
       "        vertical-align: top;\n",
       "    }\n",
       "\n",
       "    .dataframe thead th {\n",
       "        text-align: right;\n",
       "    }\n",
       "</style>\n",
       "<table border=\"1\" class=\"dataframe\">\n",
       "  <thead>\n",
       "    <tr style=\"text-align: right;\">\n",
       "      <th></th>\n",
       "      <th>Name</th>\n",
       "      <th>Age</th>\n",
       "      <th>City</th>\n",
       "      <th>Profession</th>\n",
       "    </tr>\n",
       "  </thead>\n",
       "  <tbody>\n",
       "    <tr>\n",
       "      <th>0</th>\n",
       "      <td>John</td>\n",
       "      <td>28</td>\n",
       "      <td>New York</td>\n",
       "      <td>Engineer</td>\n",
       "    </tr>\n",
       "    <tr>\n",
       "      <th>1</th>\n",
       "      <td>Anna</td>\n",
       "      <td>24</td>\n",
       "      <td>Paris</td>\n",
       "      <td>Doctor</td>\n",
       "    </tr>\n",
       "    <tr>\n",
       "      <th>2</th>\n",
       "      <td>Peter</td>\n",
       "      <td>35</td>\n",
       "      <td>Berlin</td>\n",
       "      <td>Artist</td>\n",
       "    </tr>\n",
       "    <tr>\n",
       "      <th>3</th>\n",
       "      <td>Linda</td>\n",
       "      <td>32</td>\n",
       "      <td>London</td>\n",
       "      <td>Scientist</td>\n",
       "    </tr>\n",
       "  </tbody>\n",
       "</table>\n",
       "</div>"
      ],
      "text/plain": [
       "    Name  Age      City Profession\n",
       "0   John   28  New York   Engineer\n",
       "1   Anna   24     Paris     Doctor\n",
       "2  Peter   35    Berlin     Artist\n",
       "3  Linda   32    London  Scientist"
      ]
     },
     "metadata": {},
     "output_type": "display_data"
    }
   ],
   "source": [
    "# 新しい列の追加\n",
    "df['Profession'] = ['Engineer', 'Doctor', 'Artist', 'Scientist']\n",
    "df"
   ]
  },
  {
   "cell_type": "code",
   "execution_count": null,
   "metadata": {},
   "outputs": [
    {
     "data": {
      "text/html": [
       "<div>\n",
       "<style scoped>\n",
       "    .dataframe tbody tr th:only-of-type {\n",
       "        vertical-align: middle;\n",
       "    }\n",
       "\n",
       "    .dataframe tbody tr th {\n",
       "        vertical-align: top;\n",
       "    }\n",
       "\n",
       "    .dataframe thead th {\n",
       "        text-align: right;\n",
       "    }\n",
       "</style>\n",
       "<table border=\"1\" class=\"dataframe\">\n",
       "  <thead>\n",
       "    <tr style=\"text-align: right;\">\n",
       "      <th></th>\n",
       "      <th>Name</th>\n",
       "      <th>City</th>\n",
       "      <th>Profession</th>\n",
       "      <th>Age</th>\n",
       "    </tr>\n",
       "  </thead>\n",
       "  <tbody>\n",
       "    <tr>\n",
       "      <th>0</th>\n",
       "      <td>John</td>\n",
       "      <td>New York</td>\n",
       "      <td>Engineer</td>\n",
       "      <td>25</td>\n",
       "    </tr>\n",
       "    <tr>\n",
       "      <th>1</th>\n",
       "      <td>Anna</td>\n",
       "      <td>Paris</td>\n",
       "      <td>Doctor</td>\n",
       "      <td>30</td>\n",
       "    </tr>\n",
       "    <tr>\n",
       "      <th>2</th>\n",
       "      <td>Peter</td>\n",
       "      <td>Berlin</td>\n",
       "      <td>Artist</td>\n",
       "      <td>35</td>\n",
       "    </tr>\n",
       "    <tr>\n",
       "      <th>3</th>\n",
       "      <td>Linda</td>\n",
       "      <td>London</td>\n",
       "      <td>Scientist</td>\n",
       "      <td>40</td>\n",
       "    </tr>\n",
       "  </tbody>\n",
       "</table>\n",
       "</div>"
      ],
      "text/plain": [
       "    Name      City Profession  Age\n",
       "0   John  New York   Engineer   25\n",
       "1   Anna     Paris     Doctor   30\n",
       "2  Peter    Berlin     Artist   35\n",
       "3  Linda    London  Scientist   40"
      ]
     },
     "metadata": {},
     "output_type": "display_data"
    }
   ],
   "source": [
    "# 'Age'列を再追加\n",
    "df['Age'] = [25, 30, 35, 40]\n",
    "df"
   ]
  },
  {
   "cell_type": "code",
   "execution_count": null,
   "metadata": {},
   "outputs": [
    {
     "data": {
      "text/html": [
       "<div>\n",
       "<style scoped>\n",
       "    .dataframe tbody tr th:only-of-type {\n",
       "        vertical-align: middle;\n",
       "    }\n",
       "\n",
       "    .dataframe tbody tr th {\n",
       "        vertical-align: top;\n",
       "    }\n",
       "\n",
       "    .dataframe thead th {\n",
       "        text-align: right;\n",
       "    }\n",
       "</style>\n",
       "<table border=\"1\" class=\"dataframe\">\n",
       "  <thead>\n",
       "    <tr style=\"text-align: right;\">\n",
       "      <th></th>\n",
       "      <th>Name</th>\n",
       "      <th>City</th>\n",
       "      <th>Profession</th>\n",
       "    </tr>\n",
       "  </thead>\n",
       "  <tbody>\n",
       "    <tr>\n",
       "      <th>0</th>\n",
       "      <td>John</td>\n",
       "      <td>New York</td>\n",
       "      <td>Engineer</td>\n",
       "    </tr>\n",
       "    <tr>\n",
       "      <th>1</th>\n",
       "      <td>Anna</td>\n",
       "      <td>Paris</td>\n",
       "      <td>Doctor</td>\n",
       "    </tr>\n",
       "    <tr>\n",
       "      <th>2</th>\n",
       "      <td>Peter</td>\n",
       "      <td>Berlin</td>\n",
       "      <td>Artist</td>\n",
       "    </tr>\n",
       "    <tr>\n",
       "      <th>3</th>\n",
       "      <td>Linda</td>\n",
       "      <td>London</td>\n",
       "      <td>Scientist</td>\n",
       "    </tr>\n",
       "  </tbody>\n",
       "</table>\n",
       "</div>"
      ],
      "text/plain": [
       "    Name      City Profession\n",
       "0   John  New York   Engineer\n",
       "1   Anna     Paris     Doctor\n",
       "2  Peter    Berlin     Artist\n",
       "3  Linda    London  Scientist"
      ]
     },
     "metadata": {},
     "output_type": "display_data"
    }
   ],
   "source": [
    "# 列の削除\n",
    "df = df.drop('Age', axis=1)\n",
    "df"
   ]
  },
  {
   "cell_type": "code",
   "execution_count": null,
   "metadata": {},
   "outputs": [
    {
     "data": {
      "text/html": [
       "<div>\n",
       "<style scoped>\n",
       "    .dataframe tbody tr th:only-of-type {\n",
       "        vertical-align: middle;\n",
       "    }\n",
       "\n",
       "    .dataframe tbody tr th {\n",
       "        vertical-align: top;\n",
       "    }\n",
       "\n",
       "    .dataframe thead th {\n",
       "        text-align: right;\n",
       "    }\n",
       "</style>\n",
       "<table border=\"1\" class=\"dataframe\">\n",
       "  <thead>\n",
       "    <tr style=\"text-align: right;\">\n",
       "      <th></th>\n",
       "      <th>Name</th>\n",
       "      <th>Age</th>\n",
       "      <th>City</th>\n",
       "      <th>Profession</th>\n",
       "    </tr>\n",
       "  </thead>\n",
       "  <tbody>\n",
       "  </tbody>\n",
       "</table>\n",
       "</div>"
      ],
      "text/plain": [
       "Empty DataFrame\n",
       "Columns: [Name, Age, City, Profession]\n",
       "Index: []"
      ]
     },
     "metadata": {},
     "output_type": "display_data"
    }
   ],
   "source": [
    "# 複数の条件を満たすデータを抽出    \n",
    "df[(df['Age'] >= 30) & (df['City'] == 'New York')]"
   ]
  },
  {
   "cell_type": "code",
   "execution_count": null,
   "metadata": {},
   "outputs": [
    {
     "data": {
      "text/html": [
       "<div>\n",
       "<style scoped>\n",
       "    .dataframe tbody tr th:only-of-type {\n",
       "        vertical-align: middle;\n",
       "    }\n",
       "\n",
       "    .dataframe tbody tr th {\n",
       "        vertical-align: top;\n",
       "    }\n",
       "\n",
       "    .dataframe thead th {\n",
       "        text-align: right;\n",
       "    }\n",
       "</style>\n",
       "<table border=\"1\" class=\"dataframe\">\n",
       "  <thead>\n",
       "    <tr style=\"text-align: right;\">\n",
       "      <th></th>\n",
       "      <th>FirstName</th>\n",
       "      <th>City</th>\n",
       "      <th>Profession</th>\n",
       "      <th>Age</th>\n",
       "    </tr>\n",
       "  </thead>\n",
       "  <tbody>\n",
       "    <tr>\n",
       "      <th>0</th>\n",
       "      <td>John</td>\n",
       "      <td>New York</td>\n",
       "      <td>Engineer</td>\n",
       "      <td>25</td>\n",
       "    </tr>\n",
       "    <tr>\n",
       "      <th>1</th>\n",
       "      <td>Anna</td>\n",
       "      <td>Paris</td>\n",
       "      <td>Doctor</td>\n",
       "      <td>30</td>\n",
       "    </tr>\n",
       "    <tr>\n",
       "      <th>2</th>\n",
       "      <td>Peter</td>\n",
       "      <td>Berlin</td>\n",
       "      <td>Artist</td>\n",
       "      <td>35</td>\n",
       "    </tr>\n",
       "    <tr>\n",
       "      <th>3</th>\n",
       "      <td>Linda</td>\n",
       "      <td>London</td>\n",
       "      <td>Scientist</td>\n",
       "      <td>40</td>\n",
       "    </tr>\n",
       "  </tbody>\n",
       "</table>\n",
       "</div>"
      ],
      "text/plain": [
       "  FirstName      City Profession  Age\n",
       "0      John  New York   Engineer   25\n",
       "1      Anna     Paris     Doctor   30\n",
       "2     Peter    Berlin     Artist   35\n",
       "3     Linda    London  Scientist   40"
      ]
     },
     "metadata": {},
     "output_type": "display_data"
    }
   ],
   "source": [
    "# 列の名前の変更\n",
    "df = df.rename(columns={'Name': 'FirstName'})\n",
    "df"
   ]
  },
  {
   "attachments": {},
   "cell_type": "markdown",
   "metadata": {},
   "source": [
    "## ■ 実践っぽいこと"
   ]
  },
  {
   "cell_type": "code",
   "execution_count": null,
   "metadata": {},
   "outputs": [],
   "source": [
    "## ファイルの取得\n",
    "!wget -P . https://raw.githubusercontent.com/gmoriki/C4RA-Python-Tutorials/master/0609/kaken.nii.ac.jp_2023-06-07_10-57-32.csv"
   ]
  },
  {
   "cell_type": "code",
   "execution_count": 10,
   "metadata": {},
   "outputs": [
    {
     "data": {
      "text/html": [
       "<div>\n",
       "<style scoped>\n",
       "    .dataframe tbody tr th:only-of-type {\n",
       "        vertical-align: middle;\n",
       "    }\n",
       "\n",
       "    .dataframe tbody tr th {\n",
       "        vertical-align: top;\n",
       "    }\n",
       "\n",
       "    .dataframe thead th {\n",
       "        text-align: right;\n",
       "    }\n",
       "</style>\n",
       "<table border=\"1\" class=\"dataframe\">\n",
       "  <thead>\n",
       "    <tr style=\"text-align: right;\">\n",
       "      <th></th>\n",
       "      <th>研究課題名</th>\n",
       "      <th>研究課題名 (英文)</th>\n",
       "      <th>研究課題/領域番号</th>\n",
       "      <th>研究期間 (年度)</th>\n",
       "      <th>研究代表者</th>\n",
       "      <th>研究分担者</th>\n",
       "      <th>連携研究者</th>\n",
       "      <th>研究協力者</th>\n",
       "      <th>特別研究員</th>\n",
       "      <th>外国人特別研究員</th>\n",
       "      <th>...</th>\n",
       "      <th>雑誌論文 (オープンアクセス)</th>\n",
       "      <th>学会発表</th>\n",
       "      <th>学会発表 (国際学会)</th>\n",
       "      <th>学会発表 (招待講演)</th>\n",
       "      <th>図書</th>\n",
       "      <th>プレス/新聞発表</th>\n",
       "      <th>備考 (成果物)</th>\n",
       "      <th>産業財産権</th>\n",
       "      <th>産業財産権 (外国)</th>\n",
       "      <th>文献書誌</th>\n",
       "    </tr>\n",
       "  </thead>\n",
       "  <tbody>\n",
       "    <tr>\n",
       "      <th>0</th>\n",
       "      <td>交通事故における自動車と衝突した手動式車いすの衝突挙動と受傷過程の解明</td>\n",
       "      <td>NaN</td>\n",
       "      <td>23K11991</td>\n",
       "      <td>2023-04-01 – 2026-03-31</td>\n",
       "      <td>大賀 涼 科学警察研究所, その他部局等, その他 (50392262)</td>\n",
       "      <td>NaN</td>\n",
       "      <td>NaN</td>\n",
       "      <td>NaN</td>\n",
       "      <td>NaN</td>\n",
       "      <td>NaN</td>\n",
       "      <td>...</td>\n",
       "      <td>0</td>\n",
       "      <td>0</td>\n",
       "      <td>0</td>\n",
       "      <td>0</td>\n",
       "      <td>0</td>\n",
       "      <td>0</td>\n",
       "      <td>0</td>\n",
       "      <td>0</td>\n",
       "      <td>0</td>\n",
       "      <td>0</td>\n",
       "    </tr>\n",
       "    <tr>\n",
       "      <th>1</th>\n",
       "      <td>環境センサと移動ロボットを連携した見守りシステムの教師なし学習による認識精度向上</td>\n",
       "      <td>NaN</td>\n",
       "      <td>23K11990</td>\n",
       "      <td>2023-04-01 – 2026-03-31</td>\n",
       "      <td>佐竹 純二 福岡工業大学, 情報工学部, 准教授 (60392726)</td>\n",
       "      <td>NaN</td>\n",
       "      <td>NaN</td>\n",
       "      <td>NaN</td>\n",
       "      <td>NaN</td>\n",
       "      <td>NaN</td>\n",
       "      <td>...</td>\n",
       "      <td>0</td>\n",
       "      <td>0</td>\n",
       "      <td>0</td>\n",
       "      <td>0</td>\n",
       "      <td>0</td>\n",
       "      <td>0</td>\n",
       "      <td>0</td>\n",
       "      <td>0</td>\n",
       "      <td>0</td>\n",
       "      <td>0</td>\n",
       "    </tr>\n",
       "    <tr>\n",
       "      <th>2</th>\n",
       "      <td>生活環境と操作特性に応じてカスタマイズ可能なシニアカー訓練プログラムの開発</td>\n",
       "      <td>NaN</td>\n",
       "      <td>23K11989</td>\n",
       "      <td>2023-04-01 – 2027-03-31</td>\n",
       "      <td>竹嶋 理恵 帝京科学大学, 公私立大学の部局等, 准教授 (80534130)</td>\n",
       "      <td>NaN</td>\n",
       "      <td>NaN</td>\n",
       "      <td>NaN</td>\n",
       "      <td>NaN</td>\n",
       "      <td>NaN</td>\n",
       "      <td>...</td>\n",
       "      <td>0</td>\n",
       "      <td>0</td>\n",
       "      <td>0</td>\n",
       "      <td>0</td>\n",
       "      <td>0</td>\n",
       "      <td>0</td>\n",
       "      <td>0</td>\n",
       "      <td>0</td>\n",
       "      <td>0</td>\n",
       "      <td>0</td>\n",
       "    </tr>\n",
       "    <tr>\n",
       "      <th>3</th>\n",
       "      <td>女性大腿切断者の月経周期における断端周径変化量の解明と要因分析</td>\n",
       "      <td>NaN</td>\n",
       "      <td>23K11988</td>\n",
       "      <td>2023-04-01 – 2026-03-31</td>\n",
       "      <td>佐藤 未希 新潟医療福祉大学, 公私立大学の部局等, 助教 (70759331)</td>\n",
       "      <td>NaN</td>\n",
       "      <td>NaN</td>\n",
       "      <td>NaN</td>\n",
       "      <td>NaN</td>\n",
       "      <td>NaN</td>\n",
       "      <td>...</td>\n",
       "      <td>0</td>\n",
       "      <td>0</td>\n",
       "      <td>0</td>\n",
       "      <td>0</td>\n",
       "      <td>0</td>\n",
       "      <td>0</td>\n",
       "      <td>0</td>\n",
       "      <td>0</td>\n",
       "      <td>0</td>\n",
       "      <td>0</td>\n",
       "    </tr>\n",
       "    <tr>\n",
       "      <th>4</th>\n",
       "      <td>聴き取りづらい音韻の個人差に対応する新たな補聴方式の開発</td>\n",
       "      <td>NaN</td>\n",
       "      <td>23K11987</td>\n",
       "      <td>2023-04-01 – 2026-03-31</td>\n",
       "      <td>森山 剛 東京工芸大学, 工学部, 准教授 (80449032)</td>\n",
       "      <td>NaN</td>\n",
       "      <td>NaN</td>\n",
       "      <td>NaN</td>\n",
       "      <td>NaN</td>\n",
       "      <td>NaN</td>\n",
       "      <td>...</td>\n",
       "      <td>0</td>\n",
       "      <td>0</td>\n",
       "      <td>0</td>\n",
       "      <td>0</td>\n",
       "      <td>0</td>\n",
       "      <td>0</td>\n",
       "      <td>0</td>\n",
       "      <td>0</td>\n",
       "      <td>0</td>\n",
       "      <td>0</td>\n",
       "    </tr>\n",
       "  </tbody>\n",
       "</table>\n",
       "<p>5 rows × 55 columns</p>\n",
       "</div>"
      ],
      "text/plain": [
       "                                      研究課題名  研究課題名 (英文) 研究課題/領域番号   \n",
       "0       交通事故における自動車と衝突した手動式車いすの衝突挙動と受傷過程の解明         NaN  23K11991  \\\n",
       "1  環境センサと移動ロボットを連携した見守りシステムの教師なし学習による認識精度向上         NaN  23K11990   \n",
       "2     生活環境と操作特性に応じてカスタマイズ可能なシニアカー訓練プログラムの開発         NaN  23K11989   \n",
       "3           女性大腿切断者の月経周期における断端周径変化量の解明と要因分析         NaN  23K11988   \n",
       "4              聴き取りづらい音韻の個人差に対応する新たな補聴方式の開発         NaN  23K11987   \n",
       "\n",
       "                 研究期間 (年度)                                     研究代表者  研究分担者   \n",
       "0  2023-04-01 – 2026-03-31      大賀 涼 科学警察研究所, その他部局等, その他 (50392262)    NaN  \\\n",
       "1  2023-04-01 – 2026-03-31       佐竹 純二 福岡工業大学, 情報工学部, 准教授 (60392726)    NaN   \n",
       "2  2023-04-01 – 2027-03-31   竹嶋 理恵 帝京科学大学, 公私立大学の部局等, 准教授 (80534130)    NaN   \n",
       "3  2023-04-01 – 2026-03-31  佐藤 未希 新潟医療福祉大学, 公私立大学の部局等, 助教 (70759331)    NaN   \n",
       "4  2023-04-01 – 2026-03-31          森山 剛 東京工芸大学, 工学部, 准教授 (80449032)    NaN   \n",
       "\n",
       "   連携研究者  研究協力者  特別研究員  外国人特別研究員  ...  雑誌論文 (オープンアクセス)  学会発表  学会発表 (国際学会)   \n",
       "0    NaN    NaN    NaN       NaN  ...                0     0            0  \\\n",
       "1    NaN    NaN    NaN       NaN  ...                0     0            0   \n",
       "2    NaN    NaN    NaN       NaN  ...                0     0            0   \n",
       "3    NaN    NaN    NaN       NaN  ...                0     0            0   \n",
       "4    NaN    NaN    NaN       NaN  ...                0     0            0   \n",
       "\n",
       "  学会発表 (招待講演) 図書 プレス/新聞発表 備考 (成果物)  産業財産権  産業財産権 (外国)  文献書誌  \n",
       "0           0  0        0        0      0           0     0  \n",
       "1           0  0        0        0      0           0     0  \n",
       "2           0  0        0        0      0           0     0  \n",
       "3           0  0        0        0      0           0     0  \n",
       "4           0  0        0        0      0           0     0  \n",
       "\n",
       "[5 rows x 55 columns]"
      ]
     },
     "execution_count": 10,
     "metadata": {},
     "output_type": "execute_result"
    }
   ],
   "source": [
    "df_kaken = pd.read_csv('./kaken.nii.ac.jp_2023-06-07_10-57-32.csv')\n",
    "df_kaken.head(5)"
   ]
  },
  {
   "cell_type": "code",
   "execution_count": 15,
   "metadata": {},
   "outputs": [
    {
     "data": {
      "text/plain": [
       "Index(['研究課題名', '研究課題名 (英文)', '研究課題/領域番号', '研究期間 (年度)', '研究代表者', '研究分担者',\n",
       "       '連携研究者', '研究協力者', '特別研究員', '外国人特別研究員', '受入研究者', 'キーワード', '研究分野', '審査区分',\n",
       "       '研究種目', '研究機関', '応募区分', '総配分額', '総配分額 (直接経費)', '総配分額 (間接経費)', '各年度配分額',\n",
       "       '各年度配分額 (直接経費)', '各年度配分額 (間接経費)', '現在までの達成度 (区分コード)', '現在までの達成度 (区分)',\n",
       "       '理由', '研究開始時の研究の概要', '研究概要', '研究概要 (英文)', '研究成果の概要', '研究成果の概要 (英文)',\n",
       "       '研究実績の概要', '現在までの達成度 (段落)', '今後の研究の推進方策', '次年度の研究費の使用計画',\n",
       "       '次年度使用額が生じた理由', '次年度使用額の使用計画', '自由記述の分野', '評価記号', '備考', '国際共同研究',\n",
       "       '学会・シンポジウム開催', '雑誌論文', '雑誌論文 (国際共著)', '雑誌論文 (査読あり)', '雑誌論文 (オープンアクセス)',\n",
       "       '学会発表', '学会発表 (国際学会)', '学会発表 (招待講演)', '図書', 'プレス/新聞発表', '備考 (成果物)',\n",
       "       '産業財産権', '産業財産権 (外国)', '文献書誌'],\n",
       "      dtype='object')"
      ]
     },
     "execution_count": 15,
     "metadata": {},
     "output_type": "execute_result"
    }
   ],
   "source": [
    "df_kaken.columns"
   ]
  },
  {
   "cell_type": "code",
   "execution_count": 44,
   "metadata": {},
   "outputs": [
    {
     "data": {
      "text/html": [
       "<div>\n",
       "<style scoped>\n",
       "    .dataframe tbody tr th:only-of-type {\n",
       "        vertical-align: middle;\n",
       "    }\n",
       "\n",
       "    .dataframe tbody tr th {\n",
       "        vertical-align: top;\n",
       "    }\n",
       "\n",
       "    .dataframe thead th {\n",
       "        text-align: right;\n",
       "    }\n",
       "</style>\n",
       "<table border=\"1\" class=\"dataframe\">\n",
       "  <thead>\n",
       "    <tr style=\"text-align: right;\">\n",
       "      <th></th>\n",
       "      <th>総配分額</th>\n",
       "    </tr>\n",
       "  </thead>\n",
       "  <tbody>\n",
       "    <tr>\n",
       "      <th>count</th>\n",
       "      <td>1.578500e+04</td>\n",
       "    </tr>\n",
       "    <tr>\n",
       "      <th>mean</th>\n",
       "      <td>9.333283e+06</td>\n",
       "    </tr>\n",
       "    <tr>\n",
       "      <th>std</th>\n",
       "      <td>1.553400e+07</td>\n",
       "    </tr>\n",
       "    <tr>\n",
       "      <th>min</th>\n",
       "      <td>3.900000e+05</td>\n",
       "    </tr>\n",
       "    <tr>\n",
       "      <th>25%</th>\n",
       "      <td>4.550000e+06</td>\n",
       "    </tr>\n",
       "    <tr>\n",
       "      <th>50%</th>\n",
       "      <td>4.680000e+06</td>\n",
       "    </tr>\n",
       "    <tr>\n",
       "      <th>75%</th>\n",
       "      <td>4.810000e+06</td>\n",
       "    </tr>\n",
       "    <tr>\n",
       "      <th>max</th>\n",
       "      <td>2.154100e+08</td>\n",
       "    </tr>\n",
       "  </tbody>\n",
       "</table>\n",
       "</div>"
      ],
      "text/plain": [
       "               総配分額\n",
       "count  1.578500e+04\n",
       "mean   9.333283e+06\n",
       "std    1.553400e+07\n",
       "min    3.900000e+05\n",
       "25%    4.550000e+06\n",
       "50%    4.680000e+06\n",
       "75%    4.810000e+06\n",
       "max    2.154100e+08"
      ]
     },
     "execution_count": 44,
     "metadata": {},
     "output_type": "execute_result"
    }
   ],
   "source": [
    "df_kaken.dropna(axis=1, how='any')[['研究課題名','研究代表者','総配分額']].describe()"
   ]
  },
  {
   "cell_type": "code",
   "execution_count": 68,
   "metadata": {},
   "outputs": [],
   "source": [
    "# やべーコード\n",
    "df_kaken = df_kaken.dropna(axis=1, how='any')[['研究課題名','研究代表者','総配分額']][(df_kaken['総配分額'] > df_kaken['総配分額'].mode().values[0]) & (df_kaken['研究代表者'].str.contains('助教'))].sort_values(by='総配分額').reset_index()"
   ]
  },
  {
   "cell_type": "code",
   "execution_count": 74,
   "metadata": {},
   "outputs": [],
   "source": [
    "# 見やすい例1\n",
    "df_kaken = (df_kaken.dropna(axis=1, how='any') \\\n",
    "            [['研究課題名','研究代表者','総配分額']] \\\n",
    "            [(df_kaken['総配分額'] > df_kaken['総配分額'].mode().values[0]) & (df_kaken['研究代表者'].str.contains('助教'))] \\\n",
    "            .sort_values(by='総配分額') \\\n",
    "            .reset_index()\n",
    "            ) "
   ]
  },
  {
   "cell_type": "code",
   "execution_count": null,
   "metadata": {},
   "outputs": [],
   "source": [
    "def drop_na_cols(df):\n",
    "    return df.dropna(axis=1, how='any')\n",
    "\n",
    "def filter_rows(df):\n",
    "    return df[(df['総配分額'] > df['総配分額'].mode()[0]) & (df['研究代表者'].str.contains('助教'))]\n",
    "\n",
    "def select_columns(df):\n",
    "    return df[['研究課題名','研究代表者','総配分額']]\n",
    "\n",
    "def sort_values(df):\n",
    "    return df.sort_values(by='総配分額')\n",
    "\n",
    "def reset_idx(df):\n",
    "    return df.reset_index()\n",
    "\n",
    "df_kaken = (df_kaken\n",
    "            .pipe(drop_na_cols)\n",
    "            .pipe(filter_rows)\n",
    "            .pipe(select_columns)\n",
    "            .pipe(sort_values)\n",
    "            .pipe(reset_idx)\n",
    "           )\n"
   ]
  },
  {
   "cell_type": "code",
   "execution_count": null,
   "metadata": {},
   "outputs": [],
   "source": [
    "def process_dataframe(df):\n",
    "    df = df.dropna(axis=1, how='any')\n",
    "    df = df[(df['総配分額'] > df['総配分額'].mode()[0]) & (df['研究代表者'].str.contains('助教'))]\n",
    "    df = df[['研究課題名','研究代表者','総配分額']]\n",
    "    df = df.sort_values(by='総配分額')\n",
    "    df = df.reset_index()\n",
    "    return df\n",
    "\n",
    "df_kaken = df_kaken.pipe(process_dataframe)"
   ]
  },
  {
   "cell_type": "code",
   "execution_count": 71,
   "metadata": {},
   "outputs": [],
   "source": [
    "df_kaken['総配分額[百万]'] = df_kaken['総配分額'] / 1000000"
   ]
  },
  {
   "cell_type": "code",
   "execution_count": 72,
   "metadata": {},
   "outputs": [
    {
     "data": {
      "text/html": [
       "<div>\n",
       "<style scoped>\n",
       "    .dataframe tbody tr th:only-of-type {\n",
       "        vertical-align: middle;\n",
       "    }\n",
       "\n",
       "    .dataframe tbody tr th {\n",
       "        vertical-align: top;\n",
       "    }\n",
       "\n",
       "    .dataframe thead th {\n",
       "        text-align: right;\n",
       "    }\n",
       "</style>\n",
       "<table border=\"1\" class=\"dataframe\">\n",
       "  <thead>\n",
       "    <tr style=\"text-align: right;\">\n",
       "      <th></th>\n",
       "      <th>index</th>\n",
       "      <th>研究課題名</th>\n",
       "      <th>研究代表者</th>\n",
       "      <th>総配分額</th>\n",
       "      <th>総配分額[百万]</th>\n",
       "    </tr>\n",
       "  </thead>\n",
       "  <tbody>\n",
       "    <tr>\n",
       "      <th>0</th>\n",
       "      <td>23</td>\n",
       "      <td>カテーテル位置計測機能を備える吸引シミュレーターによる吸引技術評価システムの開発</td>\n",
       "      <td>堀内 裕子 目白大学, 看護学部, 助教 (80789008)</td>\n",
       "      <td>4810000</td>\n",
       "      <td>4.81</td>\n",
       "    </tr>\n",
       "    <tr>\n",
       "      <th>1</th>\n",
       "      <td>5828</td>\n",
       "      <td>海馬ミクログリアサブセットに着目した神経障害性疼痛の病態解明と新規治療法への応用</td>\n",
       "      <td>久岡 一恵 広島大学, その他の研究科, 助教 (20393431)</td>\n",
       "      <td>4810000</td>\n",
       "      <td>4.81</td>\n",
       "    </tr>\n",
       "    <tr>\n",
       "      <th>2</th>\n",
       "      <td>5761</td>\n",
       "      <td>RASのタンパク質恒常性に注目した希少遺伝性難病の病態解明と遺伝子治療法の開発</td>\n",
       "      <td>阿部 太紀 東北大学, 医学(系)研究科(研究院), 助教 (40810594)</td>\n",
       "      <td>4810000</td>\n",
       "      <td>4.81</td>\n",
       "    </tr>\n",
       "    <tr>\n",
       "      <th>3</th>\n",
       "      <td>5734</td>\n",
       "      <td>がん分子標的薬による腎障害の発現機序解明：BRAF阻害剤に着目した検討</td>\n",
       "      <td>真川 明将 名古屋市立大学, 薬学研究科(研究院), 助教 (20827670)</td>\n",
       "      <td>4810000</td>\n",
       "      <td>4.81</td>\n",
       "    </tr>\n",
       "    <tr>\n",
       "      <th>4</th>\n",
       "      <td>5681</td>\n",
       "      <td>アミロイドβプラークに付随した神経突起変性がもたらす遠距離神経毒性の解明</td>\n",
       "      <td>山内 健太 順天堂大学, 医学(系)研究科(研究院), 助教 (00513079)</td>\n",
       "      <td>4810000</td>\n",
       "      <td>4.81</td>\n",
       "    </tr>\n",
       "    <tr>\n",
       "      <th>...</th>\n",
       "      <td>...</td>\n",
       "      <td>...</td>\n",
       "      <td>...</td>\n",
       "      <td>...</td>\n",
       "      <td>...</td>\n",
       "    </tr>\n",
       "    <tr>\n",
       "      <th>566</th>\n",
       "      <td>15774</td>\n",
       "      <td>「古文書科学」の応用実践</td>\n",
       "      <td>渋谷 綾子 東京大学, 史料編纂所, 助教 (80593657)</td>\n",
       "      <td>46670000</td>\n",
       "      <td>46.67</td>\n",
       "    </tr>\n",
       "    <tr>\n",
       "      <th>567</th>\n",
       "      <td>15676</td>\n",
       "      <td>パイオンと電子ビームを使ったハイパー核研究：異種量子線共同分光の創始</td>\n",
       "      <td>後神 利志 京都大学, 理学(系)研究科(研究院), 助教 (20750368)</td>\n",
       "      <td>46930000</td>\n",
       "      <td>46.93</td>\n",
       "    </tr>\n",
       "    <tr>\n",
       "      <th>568</th>\n",
       "      <td>15679</td>\n",
       "      <td>超伝導デバイスによるミリ波分光で切り拓くダークマターの検出実験</td>\n",
       "      <td>安達 俊介 京都大学, 学内共同利用施設等, 助教 (80835273)</td>\n",
       "      <td>46930000</td>\n",
       "      <td>46.93</td>\n",
       "    </tr>\n",
       "    <tr>\n",
       "      <th>569</th>\n",
       "      <td>15668</td>\n",
       "      <td>積層薄膜構造導入による次世代超伝導加速空洞開発のための新成膜手法の開発</td>\n",
       "      <td>片山 領 大学共同利用機関法人高エネルギー加速器研究機構, その他部局等, 助教 (6080...</td>\n",
       "      <td>49400000</td>\n",
       "      <td>49.40</td>\n",
       "    </tr>\n",
       "    <tr>\n",
       "      <th>570</th>\n",
       "      <td>12050</td>\n",
       "      <td>銀河系内拡散MeVガンマ線の観測によるMeVスケール暗黒物質間接探索</td>\n",
       "      <td>高田 淳史 京都大学, 理学(系)研究科(研究院), 助教 (90531468)</td>\n",
       "      <td>196690000</td>\n",
       "      <td>196.69</td>\n",
       "    </tr>\n",
       "  </tbody>\n",
       "</table>\n",
       "<p>571 rows × 5 columns</p>\n",
       "</div>"
      ],
      "text/plain": [
       "     index                                     研究課題名   \n",
       "0       23  カテーテル位置計測機能を備える吸引シミュレーターによる吸引技術評価システムの開発  \\\n",
       "1     5828  海馬ミクログリアサブセットに着目した神経障害性疼痛の病態解明と新規治療法への応用   \n",
       "2     5761   RASのタンパク質恒常性に注目した希少遺伝性難病の病態解明と遺伝子治療法の開発   \n",
       "3     5734       がん分子標的薬による腎障害の発現機序解明：BRAF阻害剤に着目した検討   \n",
       "4     5681      アミロイドβプラークに付随した神経突起変性がもたらす遠距離神経毒性の解明   \n",
       "..     ...                                       ...   \n",
       "566  15774                              「古文書科学」の応用実践   \n",
       "567  15676        パイオンと電子ビームを使ったハイパー核研究：異種量子線共同分光の創始   \n",
       "568  15679           超伝導デバイスによるミリ波分光で切り拓くダークマターの検出実験   \n",
       "569  15668       積層薄膜構造導入による次世代超伝導加速空洞開発のための新成膜手法の開発   \n",
       "570  12050        銀河系内拡散MeVガンマ線の観測によるMeVスケール暗黒物質間接探索   \n",
       "\n",
       "                                                 研究代表者       総配分額  総配分額[百万]  \n",
       "0                      堀内 裕子 目白大学, 看護学部, 助教 (80789008)    4810000      4.81  \n",
       "1                   久岡 一恵 広島大学, その他の研究科, 助教 (20393431)    4810000      4.81  \n",
       "2             阿部 太紀 東北大学, 医学(系)研究科(研究院), 助教 (40810594)    4810000      4.81  \n",
       "3             真川 明将 名古屋市立大学, 薬学研究科(研究院), 助教 (20827670)    4810000      4.81  \n",
       "4            山内 健太 順天堂大学, 医学(系)研究科(研究院), 助教 (00513079)    4810000      4.81  \n",
       "..                                                 ...        ...       ...  \n",
       "566                   渋谷 綾子 東京大学, 史料編纂所, 助教 (80593657)   46670000     46.67  \n",
       "567           後神 利志 京都大学, 理学(系)研究科(研究院), 助教 (20750368)   46930000     46.93  \n",
       "568               安達 俊介 京都大学, 学内共同利用施設等, 助教 (80835273)   46930000     46.93  \n",
       "569  片山 領 大学共同利用機関法人高エネルギー加速器研究機構, その他部局等, 助教 (6080...   49400000     49.40  \n",
       "570           高田 淳史 京都大学, 理学(系)研究科(研究院), 助教 (90531468)  196690000    196.69  \n",
       "\n",
       "[571 rows x 5 columns]"
      ]
     },
     "execution_count": 72,
     "metadata": {},
     "output_type": "execute_result"
    }
   ],
   "source": [
    "df_kaken"
   ]
  },
  {
   "attachments": {},
   "cell_type": "markdown",
   "metadata": {},
   "source": [
    "まずは"
   ]
  }
 ],
 "metadata": {
  "kernelspec": {
   "display_name": "Python 3",
   "language": "python",
   "name": "python3"
  },
  "language_info": {
   "codemirror_mode": {
    "name": "ipython",
    "version": 3
   },
   "file_extension": ".py",
   "mimetype": "text/x-python",
   "name": "python",
   "nbconvert_exporter": "python",
   "pygments_lexer": "ipython3",
   "version": "3.10.1"
  },
  "orig_nbformat": 4
 },
 "nbformat": 4,
 "nbformat_minor": 2
}
