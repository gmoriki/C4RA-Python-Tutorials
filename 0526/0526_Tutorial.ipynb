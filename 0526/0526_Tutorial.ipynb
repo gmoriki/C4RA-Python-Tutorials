{
 "cells": [
  {
   "attachments": {},
   "cell_type": "markdown",
   "metadata": {},
   "source": [
    "# 第3回C4RA勉強会\n",
    "## 制御構造と関数\n",
    "---"
   ]
  },
  {
   "attachments": {},
   "cell_type": "markdown",
   "metadata": {},
   "source": [
    "## ★ 勉強会の基本方針"
   ]
  },
  {
   "cell_type": "markdown",
   "metadata": {},
   "source": [
    "* 5月12日(金)から6月30日(金)までの計8回を予定しています。\n",
    "* 目標は**pandas.DataFrame形式の基本的な操作をマスターすること**です。"
   ]
  },
  {
   "cell_type": "markdown",
   "metadata": {},
   "source": [
    "* 環境はGoogle Colaboratory(通称Colab)を使用します。Googleアカウントをご用意ください。\n",
    "  * 各々のローカル環境でも実行可能です。\n",
    "* 一部、東京大学「Pythonプログラミング入門」の教材を共有しながら勉強会を進めます。\n",
    "  * 勉強会では**東大教材**と呼びます\n",
    "  * URL：https://utokyo-ipp.github.io/index.html"
   ]
  },
  {
   "cell_type": "markdown",
   "metadata": {},
   "source": [
    "* Colab（Jupyter Notebook）の詳しい使い方について、勉強会の中で深入りはしません\n",
    "  * Colab立ち上げのURL：https://colab.research.google.com/\n",
    "  * 便利なショートカット：https://blog.kikagaku.co.jp/google-colaboratory-shortcut"
   ]
  },
  {
   "cell_type": "markdown",
   "metadata": {},
   "source": [
    "* Pythonに関する不明点があれば森木(Pumble,Mail,Twitter等)までご連絡ください\n",
    "* 勉強会の内容でなくてもOKです（Colabの使い方や環境構築なども）\n",
    "---"
   ]
  },
  {
   "attachments": {},
   "cell_type": "markdown",
   "metadata": {},
   "source": [
    "## ■ 制御構造と関数"
   ]
  },
  {
   "attachments": {},
   "cell_type": "markdown",
   "metadata": {},
   "source": [
    "### 条件分岐（if, elif, else）：\n",
    "\n",
    "* **条件に応じた処理**：条件が真の場合に実行されるブロックを指定\n",
    "* **複数の条件**：elif で追加の条件を指定可能\n",
    "* **どの条件も満たさない場合**：else で実行されるブロックを指定"
   ]
  },
  {
   "cell_type": "code",
   "execution_count": null,
   "metadata": {},
   "outputs": [],
   "source": [
    "x = 10\n",
    "\n",
    "if x < 0:\n",
    "    print(\"xは負の数です。\")\n",
    "elif x == 0:\n",
    "    print(\"xは0です。\")\n",
    "else:\n",
    "    print(\"xは正の数です。\")"
   ]
  },
  {
   "attachments": {},
   "cell_type": "markdown",
   "metadata": {},
   "source": [
    "#### **東大教材(条件分岐)**\n",
    "* 2-3. 条件分岐\n",
    "  * https://colab.research.google.com/github/utokyo-ipp/utokyo-ipp.github.io/blob/master/colab/2/2-3.ipynb"
   ]
  },
  {
   "attachments": {},
   "cell_type": "markdown",
   "metadata": {},
   "source": [
    "### 繰り返し（for, while）\n",
    "\n",
    "* **forループ**：シーケンス型データを反復処理\n",
    "* **whileループ**：条件が真の間、繰り返し処理を実行\n",
    "* **ループ制御**：break でループを終了、continue で次の繰り返しにスキップ"
   ]
  },
  {
   "cell_type": "code",
   "execution_count": null,
   "metadata": {},
   "outputs": [],
   "source": [
    "# forループ\n",
    "fruits = [\"apple\", \"banana\", \"orange\"]\n",
    "for fruit in fruits:\n",
    "    print(fruit)\n",
    "\n",
    "# whileループ\n",
    "count = 0\n",
    "while count < 5:\n",
    "    print(count)\n",
    "    count += 1"
   ]
  },
  {
   "attachments": {},
   "cell_type": "markdown",
   "metadata": {},
   "source": [
    "#### **東大教材(繰り返し)**\n",
    "* 3-2. 繰り返し\n",
    "  * https://colab.research.google.com/github/utokyo-ipp/utokyo-ipp.github.io/blob/master/colab/3/3-2.ipynb"
   ]
  },
  {
   "attachments": {},
   "cell_type": "markdown",
   "metadata": {},
   "source": [
    "### 関数（def）\n",
    "\n",
    "* **コードの再利用**：同じ処理を複数回実行する際に使用。\n",
    "* **引数と戻り値**：関数は引数を受け取り、戻り値を返すことができる。\n",
    "* **モジュール化**：関数を使ってコードを整理し、可読性とメンテナンス性を向上。"
   ]
  },
  {
   "cell_type": "code",
   "execution_count": null,
   "metadata": {},
   "outputs": [],
   "source": [
    "def add(x, y):\n",
    "    return x + y\n",
    "\n",
    "result = add(3, 5)\n",
    "print(\"3 + 5 =\", result)"
   ]
  },
  {
   "attachments": {},
   "cell_type": "markdown",
   "metadata": {},
   "source": [
    "#### **東大教材(関数)**\n",
    "* 3-3. 関数\n",
    "  * https://colab.research.google.com/github/utokyo-ipp/utokyo-ipp.github.io/blob/master/colab/3/3-3.ipynb"
   ]
  }
 ],
 "metadata": {
  "kernelspec": {
   "display_name": "Python 3",
   "language": "python",
   "name": "python3"
  },
  "language_info": {
   "codemirror_mode": {
    "name": "ipython",
    "version": 3
   },
   "file_extension": ".py",
   "mimetype": "text/x-python",
   "name": "python",
   "nbconvert_exporter": "python",
   "pygments_lexer": "ipython3",
   "version": "3.10.1"
  },
  "orig_nbformat": 4
 },
 "nbformat": 4,
 "nbformat_minor": 2
}
